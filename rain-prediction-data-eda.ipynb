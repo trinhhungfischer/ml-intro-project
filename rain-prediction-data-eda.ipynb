{
 "cells": [
  {
   "cell_type": "code",
   "execution_count": 1,
   "metadata": {},
   "outputs": [],
   "source": [
    "import matplotlib.pyplot as plt\n",
    "import numpy as np\n",
    "import seaborn as sns\n",
    "import pandas as pd\n",
    "\n",
    "import warnings\n",
    "warnings.filterwarnings(\"ignore\", category=FutureWarning)"
   ]
  },
  {
   "cell_type": "code",
   "execution_count": 2,
   "metadata": {},
   "outputs": [],
   "source": [
    "import datetime\n",
    "from sklearn.preprocessing import LabelEncoder\n",
    "from sklearn import preprocessing\n",
    "from sklearn.preprocessing import StandardScaler"
   ]
  },
  {
   "cell_type": "code",
   "execution_count": 3,
   "metadata": {},
   "outputs": [],
   "source": [
    "df = pd.read_csv('weatherAUS.csv')"
   ]
  },
  {
   "cell_type": "markdown",
   "metadata": {},
   "source": [
    "# About Data\n",
    "Bộ dữ liệu được nhóm sử dụng là bộ dữ liệu về thời tiết trong gần 10 năm bắt đầu từ tháng 12 năm 2008 tới tháng 7 năm 2017 được quan sát trên nhiều địa điểm khắp nước Úc bới Cục khí tượng Úc. Bộ dữ liệu này đã được công khai trên Kaggle được sử dụng trong một cuộc thi. Bộ dữ liệu gốc có tổng cộng 22 trường dữ liệu đầu vào và 1 trường dữ liệu đầu ra (RainTomorow)với kích thước 25 Mb, mục tiêu của bài toán sẽ sử dụng 22 trường dữ liệu và đưa ra kết quả dự đoán chính xác nhất cho trường có mưa ngày mai hay không. Một số thông tin chi tiết về các trường của dữ liệu."
   ]
  },
  {
   "cell_type": "code",
   "execution_count": 4,
   "metadata": {},
   "outputs": [
    {
     "name": "stdout",
     "output_type": "stream",
     "text": [
      "<class 'pandas.core.frame.DataFrame'>\n",
      "RangeIndex: 145460 entries, 0 to 145459\n",
      "Columns: 23 entries, Date to RainTomorrow\n",
      "dtypes: float64(16), object(7)\n",
      "memory usage: 25.5+ MB\n"
     ]
    }
   ],
   "source": [
    "df.info(verbose=False)"
   ]
  },
  {
   "cell_type": "code",
   "execution_count": 5,
   "metadata": {},
   "outputs": [
    {
     "data": {
      "text/plain": [
       "Index(['Date', 'Location', 'MinTemp', 'MaxTemp', 'Rainfall', 'Evaporation',\n",
       "       'Sunshine', 'WindGustDir', 'WindGustSpeed', 'WindDir9am', 'WindDir3pm',\n",
       "       'WindSpeed9am', 'WindSpeed3pm', 'Humidity9am', 'Humidity3pm',\n",
       "       'Pressure9am', 'Pressure3pm', 'Cloud9am', 'Cloud3pm', 'Temp9am',\n",
       "       'Temp3pm', 'RainToday', 'RainTomorrow'],\n",
       "      dtype='object')"
      ]
     },
     "execution_count": 5,
     "metadata": {},
     "output_type": "execute_result"
    }
   ],
   "source": [
    "col_name = df.columns\n",
    "col_name"
   ]
  },
  {
   "cell_type": "markdown",
   "metadata": {},
   "source": [
    "Giải thích về các trường trong bộ dữ liệu (***Chú ý*** một ngày quan sát được tính từ 9 giờ sáng hôm trước tới 9h sáng hôm sau)\n",
    "\n",
    "- Date: Ngày tháng năm được cấu hình theo định dạng YYYY-MM-DD\n",
    "- Location: Địa điểm nơi tiến hành quan sát (Albury, Uluru, ...).\n",
    "- MaxTemp và MinTemp: Nhiệt độ lớn nhất và thấp nhất trong một ngày (độ Celsius).\n",
    "- Rainfall: Lượng mưa trong ngày (milimetres).\n",
    "- Evaporation: Lượng nước bốc hơi trong một ngày (milimetres).\n",
    "- Sunshine: Số giờ nắng trong một ngày (giờ).\n",
    "- WindGustDir, WindGustSpeed: Các chỉ số Dir tức Direction là hướng (W, NW, ...)  hay Speed tức tốc độ (km/h) của cơn gió mạnh nhất trong ngày.\n",
    "- WindDir9am, WindDir3apm,.... là các chỉ số tương tự trên của gió nhưng được đo tại các thời điểm 9 giờ sáng và 3 giờ chiều.\n",
    "- Ngoài ra còn các số liệu về temp (nhiệt độ), pressure (áp suất), humidity (độ ẩm), cloud (độ che phủ của mây trên bầu trời) được tiến hành đo tại 2 thời điểm trong ngày 9 giờ sáng và 3 giờ chiều.\n",
    "- Trường RainToday chỉ rằng có mưa hôm này hay không (Được coi là mưa nếu lượng mưa lớn hơn 1mm), trường mong muốn dữ đoán là trường RainTomorow"
   ]
  },
  {
   "cell_type": "code",
   "execution_count": 6,
   "metadata": {},
   "outputs": [
    {
     "data": {
      "text/plain": [
       "(145460, 23)"
      ]
     },
     "execution_count": 6,
     "metadata": {},
     "output_type": "execute_result"
    }
   ],
   "source": [
    "df.shape"
   ]
  },
  {
   "cell_type": "markdown",
   "metadata": {},
   "source": [
    "## Preview dataset"
   ]
  },
  {
   "cell_type": "code",
   "execution_count": 7,
   "metadata": {},
   "outputs": [
    {
     "data": {
      "text/html": [
       "<div>\n",
       "<style scoped>\n",
       "    .dataframe tbody tr th:only-of-type {\n",
       "        vertical-align: middle;\n",
       "    }\n",
       "\n",
       "    .dataframe tbody tr th {\n",
       "        vertical-align: top;\n",
       "    }\n",
       "\n",
       "    .dataframe thead th {\n",
       "        text-align: right;\n",
       "    }\n",
       "</style>\n",
       "<table border=\"1\" class=\"dataframe\">\n",
       "  <thead>\n",
       "    <tr style=\"text-align: right;\">\n",
       "      <th></th>\n",
       "      <th>Date</th>\n",
       "      <th>Location</th>\n",
       "      <th>MinTemp</th>\n",
       "      <th>MaxTemp</th>\n",
       "      <th>Rainfall</th>\n",
       "      <th>Evaporation</th>\n",
       "      <th>Sunshine</th>\n",
       "      <th>WindGustDir</th>\n",
       "      <th>WindGustSpeed</th>\n",
       "      <th>WindDir9am</th>\n",
       "      <th>...</th>\n",
       "      <th>Humidity9am</th>\n",
       "      <th>Humidity3pm</th>\n",
       "      <th>Pressure9am</th>\n",
       "      <th>Pressure3pm</th>\n",
       "      <th>Cloud9am</th>\n",
       "      <th>Cloud3pm</th>\n",
       "      <th>Temp9am</th>\n",
       "      <th>Temp3pm</th>\n",
       "      <th>RainToday</th>\n",
       "      <th>RainTomorrow</th>\n",
       "    </tr>\n",
       "  </thead>\n",
       "  <tbody>\n",
       "    <tr>\n",
       "      <th>45042</th>\n",
       "      <td>2015-12-29</td>\n",
       "      <td>Wollongong</td>\n",
       "      <td>15.7</td>\n",
       "      <td>21.9</td>\n",
       "      <td>0.0</td>\n",
       "      <td>NaN</td>\n",
       "      <td>NaN</td>\n",
       "      <td>SSE</td>\n",
       "      <td>28.0</td>\n",
       "      <td>S</td>\n",
       "      <td>...</td>\n",
       "      <td>63.0</td>\n",
       "      <td>57.0</td>\n",
       "      <td>1023.1</td>\n",
       "      <td>1021.0</td>\n",
       "      <td>NaN</td>\n",
       "      <td>NaN</td>\n",
       "      <td>19.6</td>\n",
       "      <td>21.3</td>\n",
       "      <td>No</td>\n",
       "      <td>No</td>\n",
       "    </tr>\n",
       "    <tr>\n",
       "      <th>3188</th>\n",
       "      <td>2009-05-29</td>\n",
       "      <td>BadgerysCreek</td>\n",
       "      <td>8.3</td>\n",
       "      <td>17.4</td>\n",
       "      <td>0.0</td>\n",
       "      <td>NaN</td>\n",
       "      <td>NaN</td>\n",
       "      <td>S</td>\n",
       "      <td>39.0</td>\n",
       "      <td>WSW</td>\n",
       "      <td>...</td>\n",
       "      <td>70.0</td>\n",
       "      <td>66.0</td>\n",
       "      <td>1023.8</td>\n",
       "      <td>1022.9</td>\n",
       "      <td>NaN</td>\n",
       "      <td>NaN</td>\n",
       "      <td>11.5</td>\n",
       "      <td>15.2</td>\n",
       "      <td>No</td>\n",
       "      <td>No</td>\n",
       "    </tr>\n",
       "    <tr>\n",
       "      <th>68034</th>\n",
       "      <td>2010-10-13</td>\n",
       "      <td>Melbourne</td>\n",
       "      <td>14.3</td>\n",
       "      <td>14.8</td>\n",
       "      <td>9.4</td>\n",
       "      <td>4.0</td>\n",
       "      <td>0.0</td>\n",
       "      <td>SSW</td>\n",
       "      <td>22.0</td>\n",
       "      <td>S</td>\n",
       "      <td>...</td>\n",
       "      <td>91.0</td>\n",
       "      <td>92.0</td>\n",
       "      <td>1017.4</td>\n",
       "      <td>1015.0</td>\n",
       "      <td>8.0</td>\n",
       "      <td>8.0</td>\n",
       "      <td>14.6</td>\n",
       "      <td>13.4</td>\n",
       "      <td>Yes</td>\n",
       "      <td>Yes</td>\n",
       "    </tr>\n",
       "    <tr>\n",
       "      <th>21501</th>\n",
       "      <td>2010-01-18</td>\n",
       "      <td>NorfolkIsland</td>\n",
       "      <td>19.6</td>\n",
       "      <td>25.2</td>\n",
       "      <td>0.0</td>\n",
       "      <td>5.4</td>\n",
       "      <td>10.7</td>\n",
       "      <td>ENE</td>\n",
       "      <td>37.0</td>\n",
       "      <td>NNE</td>\n",
       "      <td>...</td>\n",
       "      <td>61.0</td>\n",
       "      <td>70.0</td>\n",
       "      <td>1012.5</td>\n",
       "      <td>1011.1</td>\n",
       "      <td>6.0</td>\n",
       "      <td>6.0</td>\n",
       "      <td>23.0</td>\n",
       "      <td>23.5</td>\n",
       "      <td>No</td>\n",
       "      <td>No</td>\n",
       "    </tr>\n",
       "    <tr>\n",
       "      <th>133051</th>\n",
       "      <td>2008-12-21</td>\n",
       "      <td>Launceston</td>\n",
       "      <td>11.4</td>\n",
       "      <td>23.4</td>\n",
       "      <td>0.0</td>\n",
       "      <td>NaN</td>\n",
       "      <td>NaN</td>\n",
       "      <td>NW</td>\n",
       "      <td>35.0</td>\n",
       "      <td>NW</td>\n",
       "      <td>...</td>\n",
       "      <td>80.0</td>\n",
       "      <td>51.0</td>\n",
       "      <td>1019.5</td>\n",
       "      <td>1016.3</td>\n",
       "      <td>NaN</td>\n",
       "      <td>NaN</td>\n",
       "      <td>15.9</td>\n",
       "      <td>22.3</td>\n",
       "      <td>No</td>\n",
       "      <td>No</td>\n",
       "    </tr>\n",
       "  </tbody>\n",
       "</table>\n",
       "<p>5 rows × 23 columns</p>\n",
       "</div>"
      ],
      "text/plain": [
       "              Date       Location  MinTemp  MaxTemp  Rainfall  Evaporation  \\\n",
       "45042   2015-12-29     Wollongong     15.7     21.9       0.0          NaN   \n",
       "3188    2009-05-29  BadgerysCreek      8.3     17.4       0.0          NaN   \n",
       "68034   2010-10-13      Melbourne     14.3     14.8       9.4          4.0   \n",
       "21501   2010-01-18  NorfolkIsland     19.6     25.2       0.0          5.4   \n",
       "133051  2008-12-21     Launceston     11.4     23.4       0.0          NaN   \n",
       "\n",
       "        Sunshine WindGustDir  WindGustSpeed WindDir9am  ... Humidity9am  \\\n",
       "45042        NaN         SSE           28.0          S  ...        63.0   \n",
       "3188         NaN           S           39.0        WSW  ...        70.0   \n",
       "68034        0.0         SSW           22.0          S  ...        91.0   \n",
       "21501       10.7         ENE           37.0        NNE  ...        61.0   \n",
       "133051       NaN          NW           35.0         NW  ...        80.0   \n",
       "\n",
       "        Humidity3pm  Pressure9am  Pressure3pm  Cloud9am  Cloud3pm  Temp9am  \\\n",
       "45042          57.0       1023.1       1021.0       NaN       NaN     19.6   \n",
       "3188           66.0       1023.8       1022.9       NaN       NaN     11.5   \n",
       "68034          92.0       1017.4       1015.0       8.0       8.0     14.6   \n",
       "21501          70.0       1012.5       1011.1       6.0       6.0     23.0   \n",
       "133051         51.0       1019.5       1016.3       NaN       NaN     15.9   \n",
       "\n",
       "        Temp3pm  RainToday  RainTomorrow  \n",
       "45042      21.3         No            No  \n",
       "3188       15.2         No            No  \n",
       "68034      13.4        Yes           Yes  \n",
       "21501      23.5         No            No  \n",
       "133051     22.3         No            No  \n",
       "\n",
       "[5 rows x 23 columns]"
      ]
     },
     "execution_count": 7,
     "metadata": {},
     "output_type": "execute_result"
    }
   ],
   "source": [
    "# Five first rows of the dataframe\n",
    "df.sample(5)\n"
   ]
  },
  {
   "cell_type": "markdown",
   "metadata": {},
   "source": [
    "## Data visualization"
   ]
  },
  {
   "cell_type": "markdown",
   "metadata": {},
   "source": [
    "### View statistical properties of dataset "
   ]
  },
  {
   "cell_type": "code",
   "execution_count": 8,
   "metadata": {},
   "outputs": [
    {
     "name": "stdout",
     "output_type": "stream",
     "text": [
      "<class 'pandas.core.frame.DataFrame'>\n",
      "RangeIndex: 145460 entries, 0 to 145459\n",
      "Data columns (total 23 columns):\n",
      " #   Column         Non-Null Count   Dtype  \n",
      "---  ------         --------------   -----  \n",
      " 0   Date           145460 non-null  object \n",
      " 1   Location       145460 non-null  object \n",
      " 2   MinTemp        143975 non-null  float64\n",
      " 3   MaxTemp        144199 non-null  float64\n",
      " 4   Rainfall       142199 non-null  float64\n",
      " 5   Evaporation    82670 non-null   float64\n",
      " 6   Sunshine       75625 non-null   float64\n",
      " 7   WindGustDir    135134 non-null  object \n",
      " 8   WindGustSpeed  135197 non-null  float64\n",
      " 9   WindDir9am     134894 non-null  object \n",
      " 10  WindDir3pm     141232 non-null  object \n",
      " 11  WindSpeed9am   143693 non-null  float64\n",
      " 12  WindSpeed3pm   142398 non-null  float64\n",
      " 13  Humidity9am    142806 non-null  float64\n",
      " 14  Humidity3pm    140953 non-null  float64\n",
      " 15  Pressure9am    130395 non-null  float64\n",
      " 16  Pressure3pm    130432 non-null  float64\n",
      " 17  Cloud9am       89572 non-null   float64\n",
      " 18  Cloud3pm       86102 non-null   float64\n",
      " 19  Temp9am        143693 non-null  float64\n",
      " 20  Temp3pm        141851 non-null  float64\n",
      " 21  RainToday      142199 non-null  object \n",
      " 22  RainTomorrow   142193 non-null  object \n",
      "dtypes: float64(16), object(7)\n",
      "memory usage: 25.5+ MB\n"
     ]
    }
   ],
   "source": [
    "df.info(verbose=True)"
   ]
  },
  {
   "cell_type": "code",
   "execution_count": 9,
   "metadata": {},
   "outputs": [
    {
     "data": {
      "image/png": "[encoded data removed]",
      "text/plain": [
       "<Figure size 720x432 with 2 Axes>"
      ]
     },
     "metadata": {
      "needs_background": "light"
     },
     "output_type": "display_data"
    }
   ],
   "source": [
    "plt.figure(figsize=(10,6))\n",
    "sns.heatmap(df.isna().transpose(), cmap=\"YlGnBu\",\n",
    "            cbar_kws={'label': 'Missing Data'})\n",
    "plt.savefig(\"visualizing_missing_data.png\", dpi=100)\n"
   ]
  },
  {
   "cell_type": "code",
   "execution_count": 10,
   "metadata": {},
   "outputs": [
    {
     "data": {
      "text/html": [
       "<div>\n",
       "<style scoped>\n",
       "    .dataframe tbody tr th:only-of-type {\n",
       "        vertical-align: middle;\n",
       "    }\n",
       "\n",
       "    .dataframe tbody tr th {\n",
       "        vertical-align: top;\n",
       "    }\n",
       "\n",
       "    .dataframe thead th {\n",
       "        text-align: right;\n",
       "    }\n",
       "</style>\n",
       "<table border=\"1\" class=\"dataframe\">\n",
       "  <thead>\n",
       "    <tr style=\"text-align: right;\">\n",
       "      <th></th>\n",
       "      <th>count</th>\n",
       "      <th>mean</th>\n",
       "      <th>std</th>\n",
       "      <th>min</th>\n",
       "      <th>25%</th>\n",
       "      <th>50%</th>\n",
       "      <th>75%</th>\n",
       "      <th>max</th>\n",
       "    </tr>\n",
       "  </thead>\n",
       "  <tbody>\n",
       "    <tr>\n",
       "      <th>MinTemp</th>\n",
       "      <td>143975.0</td>\n",
       "      <td>12.194034</td>\n",
       "      <td>6.398495</td>\n",
       "      <td>-8.5</td>\n",
       "      <td>7.6</td>\n",
       "      <td>12.0</td>\n",
       "      <td>16.9</td>\n",
       "      <td>33.9</td>\n",
       "    </tr>\n",
       "    <tr>\n",
       "      <th>MaxTemp</th>\n",
       "      <td>144199.0</td>\n",
       "      <td>23.221348</td>\n",
       "      <td>7.119049</td>\n",
       "      <td>-4.8</td>\n",
       "      <td>17.9</td>\n",
       "      <td>22.6</td>\n",
       "      <td>28.2</td>\n",
       "      <td>48.1</td>\n",
       "    </tr>\n",
       "    <tr>\n",
       "      <th>Rainfall</th>\n",
       "      <td>142199.0</td>\n",
       "      <td>2.360918</td>\n",
       "      <td>8.478060</td>\n",
       "      <td>0.0</td>\n",
       "      <td>0.0</td>\n",
       "      <td>0.0</td>\n",
       "      <td>0.8</td>\n",
       "      <td>371.0</td>\n",
       "    </tr>\n",
       "    <tr>\n",
       "      <th>Evaporation</th>\n",
       "      <td>82670.0</td>\n",
       "      <td>5.468232</td>\n",
       "      <td>4.193704</td>\n",
       "      <td>0.0</td>\n",
       "      <td>2.6</td>\n",
       "      <td>4.8</td>\n",
       "      <td>7.4</td>\n",
       "      <td>145.0</td>\n",
       "    </tr>\n",
       "    <tr>\n",
       "      <th>Sunshine</th>\n",
       "      <td>75625.0</td>\n",
       "      <td>7.611178</td>\n",
       "      <td>3.785483</td>\n",
       "      <td>0.0</td>\n",
       "      <td>4.8</td>\n",
       "      <td>8.4</td>\n",
       "      <td>10.6</td>\n",
       "      <td>14.5</td>\n",
       "    </tr>\n",
       "    <tr>\n",
       "      <th>WindGustSpeed</th>\n",
       "      <td>135197.0</td>\n",
       "      <td>40.035230</td>\n",
       "      <td>13.607062</td>\n",
       "      <td>6.0</td>\n",
       "      <td>31.0</td>\n",
       "      <td>39.0</td>\n",
       "      <td>48.0</td>\n",
       "      <td>135.0</td>\n",
       "    </tr>\n",
       "    <tr>\n",
       "      <th>WindSpeed9am</th>\n",
       "      <td>143693.0</td>\n",
       "      <td>14.043426</td>\n",
       "      <td>8.915375</td>\n",
       "      <td>0.0</td>\n",
       "      <td>7.0</td>\n",
       "      <td>13.0</td>\n",
       "      <td>19.0</td>\n",
       "      <td>130.0</td>\n",
       "    </tr>\n",
       "    <tr>\n",
       "      <th>WindSpeed3pm</th>\n",
       "      <td>142398.0</td>\n",
       "      <td>18.662657</td>\n",
       "      <td>8.809800</td>\n",
       "      <td>0.0</td>\n",
       "      <td>13.0</td>\n",
       "      <td>19.0</td>\n",
       "      <td>24.0</td>\n",
       "      <td>87.0</td>\n",
       "    </tr>\n",
       "    <tr>\n",
       "      <th>Humidity9am</th>\n",
       "      <td>142806.0</td>\n",
       "      <td>68.880831</td>\n",
       "      <td>19.029164</td>\n",
       "      <td>0.0</td>\n",
       "      <td>57.0</td>\n",
       "      <td>70.0</td>\n",
       "      <td>83.0</td>\n",
       "      <td>100.0</td>\n",
       "    </tr>\n",
       "    <tr>\n",
       "      <th>Humidity3pm</th>\n",
       "      <td>140953.0</td>\n",
       "      <td>51.539116</td>\n",
       "      <td>20.795902</td>\n",
       "      <td>0.0</td>\n",
       "      <td>37.0</td>\n",
       "      <td>52.0</td>\n",
       "      <td>66.0</td>\n",
       "      <td>100.0</td>\n",
       "    </tr>\n",
       "    <tr>\n",
       "      <th>Pressure9am</th>\n",
       "      <td>130395.0</td>\n",
       "      <td>1017.649940</td>\n",
       "      <td>7.106530</td>\n",
       "      <td>980.5</td>\n",
       "      <td>1012.9</td>\n",
       "      <td>1017.6</td>\n",
       "      <td>1022.4</td>\n",
       "      <td>1041.0</td>\n",
       "    </tr>\n",
       "    <tr>\n",
       "      <th>Pressure3pm</th>\n",
       "      <td>130432.0</td>\n",
       "      <td>1015.255889</td>\n",
       "      <td>7.037414</td>\n",
       "      <td>977.1</td>\n",
       "      <td>1010.4</td>\n",
       "      <td>1015.2</td>\n",
       "      <td>1020.0</td>\n",
       "      <td>1039.6</td>\n",
       "    </tr>\n",
       "    <tr>\n",
       "      <th>Cloud9am</th>\n",
       "      <td>89572.0</td>\n",
       "      <td>4.447461</td>\n",
       "      <td>2.887159</td>\n",
       "      <td>0.0</td>\n",
       "      <td>1.0</td>\n",
       "      <td>5.0</td>\n",
       "      <td>7.0</td>\n",
       "      <td>9.0</td>\n",
       "    </tr>\n",
       "    <tr>\n",
       "      <th>Cloud3pm</th>\n",
       "      <td>86102.0</td>\n",
       "      <td>4.509930</td>\n",
       "      <td>2.720357</td>\n",
       "      <td>0.0</td>\n",
       "      <td>2.0</td>\n",
       "      <td>5.0</td>\n",
       "      <td>7.0</td>\n",
       "      <td>9.0</td>\n",
       "    </tr>\n",
       "    <tr>\n",
       "      <th>Temp9am</th>\n",
       "      <td>143693.0</td>\n",
       "      <td>16.990631</td>\n",
       "      <td>6.488753</td>\n",
       "      <td>-7.2</td>\n",
       "      <td>12.3</td>\n",
       "      <td>16.7</td>\n",
       "      <td>21.6</td>\n",
       "      <td>40.2</td>\n",
       "    </tr>\n",
       "    <tr>\n",
       "      <th>Temp3pm</th>\n",
       "      <td>141851.0</td>\n",
       "      <td>21.683390</td>\n",
       "      <td>6.936650</td>\n",
       "      <td>-5.4</td>\n",
       "      <td>16.6</td>\n",
       "      <td>21.1</td>\n",
       "      <td>26.4</td>\n",
       "      <td>46.7</td>\n",
       "    </tr>\n",
       "  </tbody>\n",
       "</table>\n",
       "</div>"
      ],
      "text/plain": [
       "                  count         mean        std    min     25%     50%  \\\n",
       "MinTemp        143975.0    12.194034   6.398495   -8.5     7.6    12.0   \n",
       "MaxTemp        144199.0    23.221348   7.119049   -4.8    17.9    22.6   \n",
       "Rainfall       142199.0     2.360918   8.478060    0.0     0.0     0.0   \n",
       "Evaporation     82670.0     5.468232   4.193704    0.0     2.6     4.8   \n",
       "Sunshine        75625.0     7.611178   3.785483    0.0     4.8     8.4   \n",
       "WindGustSpeed  135197.0    40.035230  13.607062    6.0    31.0    39.0   \n",
       "WindSpeed9am   143693.0    14.043426   8.915375    0.0     7.0    13.0   \n",
       "WindSpeed3pm   142398.0    18.662657   8.809800    0.0    13.0    19.0   \n",
       "Humidity9am    142806.0    68.880831  19.029164    0.0    57.0    70.0   \n",
       "Humidity3pm    140953.0    51.539116  20.795902    0.0    37.0    52.0   \n",
       "Pressure9am    130395.0  1017.649940   7.106530  980.5  1012.9  1017.6   \n",
       "Pressure3pm    130432.0  1015.255889   7.037414  977.1  1010.4  1015.2   \n",
       "Cloud9am        89572.0     4.447461   2.887159    0.0     1.0     5.0   \n",
       "Cloud3pm        86102.0     4.509930   2.720357    0.0     2.0     5.0   \n",
       "Temp9am        143693.0    16.990631   6.488753   -7.2    12.3    16.7   \n",
       "Temp3pm        141851.0    21.683390   6.936650   -5.4    16.6    21.1   \n",
       "\n",
       "                  75%     max  \n",
       "MinTemp          16.9    33.9  \n",
       "MaxTemp          28.2    48.1  \n",
       "Rainfall          0.8   371.0  \n",
       "Evaporation       7.4   145.0  \n",
       "Sunshine         10.6    14.5  \n",
       "WindGustSpeed    48.0   135.0  \n",
       "WindSpeed9am     19.0   130.0  \n",
       "WindSpeed3pm     24.0    87.0  \n",
       "Humidity9am      83.0   100.0  \n",
       "Humidity3pm      66.0   100.0  \n",
       "Pressure9am    1022.4  1041.0  \n",
       "Pressure3pm    1020.0  1039.6  \n",
       "Cloud9am          7.0     9.0  \n",
       "Cloud3pm          7.0     9.0  \n",
       "Temp9am          21.6    40.2  \n",
       "Temp3pm          26.4    46.7  "
      ]
     },
     "execution_count": 10,
     "metadata": {},
     "output_type": "execute_result"
    }
   ],
   "source": [
    "df.describe().T"
   ]
  },
  {
   "cell_type": "markdown",
   "metadata": {},
   "source": [
    "### View prediction value"
   ]
  },
  {
   "cell_type": "code",
   "execution_count": 11,
   "metadata": {},
   "outputs": [
    {
     "data": {
      "text/plain": [
       "<AxesSubplot:xlabel='RainTomorrow', ylabel='count'>"
      ]
     },
     "execution_count": 11,
     "metadata": {},
     "output_type": "execute_result"
    },
    {
     "data": {
      "image/png": "[encoded data removed]",
      "text/plain": [
       "<Figure size 432x288 with 1 Axes>"
      ]
     },
     "metadata": {
      "needs_background": "light"
     },
     "output_type": "display_data"
    }
   ],
   "source": [
    "# The label of training data is rain tomorrow column\n",
    "cols= [\"#FF0000\",\"#1CFF00\"]\n",
    "sns.countplot(x= df[\"RainTomorrow\"], palette= cols)"
   ]
  },
  {
   "cell_type": "markdown",
   "metadata": {},
   "source": [
    "### View correlation of variated columns"
   ]
  },
  {
   "cell_type": "code",
   "execution_count": 12,
   "metadata": {},
   "outputs": [
    {
     "data": {
      "text/plain": [
       "<AxesSubplot:>"
      ]
     },
     "execution_count": 12,
     "metadata": {},
     "output_type": "execute_result"
    },
    {
     "data": {
      "image/png": "[encoded data removed]",
      "text/plain": [
       "<Figure size 1296x1296 with 2 Axes>"
      ]
     },
     "metadata": {
      "needs_background": "light"
     },
     "output_type": "display_data"
    }
   ],
   "source": [
    "corrmat = df.corr()\n",
    "cmap = sns.diverging_palette(260,-10,s=50, l=75, n=6, as_cmap=True)\n",
    "plt.subplots(figsize=(18,18))\n",
    "sns.heatmap(corrmat,cmap= cmap,annot=True, square=True)"
   ]
  },
  {
   "cell_type": "markdown",
   "metadata": {},
   "source": [
    "# Data Preprocessing"
   ]
  },
  {
   "cell_type": "markdown",
   "metadata": {},
   "source": [
    "## Bước 1: Tách và biến đổi trường thời gian"
   ]
  },
  {
   "cell_type": "code",
   "execution_count": 13,
   "metadata": {},
   "outputs": [
    {
     "data": {
      "text/html": [
       "<div>\n",
       "<style scoped>\n",
       "    .dataframe tbody tr th:only-of-type {\n",
       "        vertical-align: middle;\n",
       "    }\n",
       "\n",
       "    .dataframe tbody tr th {\n",
       "        vertical-align: top;\n",
       "    }\n",
       "\n",
       "    .dataframe thead th {\n",
       "        text-align: right;\n",
       "    }\n",
       "</style>\n",
       "<table border=\"1\" class=\"dataframe\">\n",
       "  <thead>\n",
       "    <tr style=\"text-align: right;\">\n",
       "      <th></th>\n",
       "      <th>Date</th>\n",
       "      <th>Location</th>\n",
       "      <th>MinTemp</th>\n",
       "      <th>MaxTemp</th>\n",
       "      <th>Rainfall</th>\n",
       "      <th>Evaporation</th>\n",
       "      <th>Sunshine</th>\n",
       "      <th>WindGustDir</th>\n",
       "      <th>WindGustSpeed</th>\n",
       "      <th>WindDir9am</th>\n",
       "      <th>...</th>\n",
       "      <th>Temp3pm</th>\n",
       "      <th>RainToday</th>\n",
       "      <th>RainTomorrow</th>\n",
       "      <th>year</th>\n",
       "      <th>month</th>\n",
       "      <th>month_sin</th>\n",
       "      <th>month_cos</th>\n",
       "      <th>day</th>\n",
       "      <th>day_sin</th>\n",
       "      <th>day_cos</th>\n",
       "    </tr>\n",
       "  </thead>\n",
       "  <tbody>\n",
       "    <tr>\n",
       "      <th>0</th>\n",
       "      <td>2008-12-01</td>\n",
       "      <td>Albury</td>\n",
       "      <td>13.4</td>\n",
       "      <td>22.9</td>\n",
       "      <td>0.6</td>\n",
       "      <td>NaN</td>\n",
       "      <td>NaN</td>\n",
       "      <td>W</td>\n",
       "      <td>44.0</td>\n",
       "      <td>W</td>\n",
       "      <td>...</td>\n",
       "      <td>21.8</td>\n",
       "      <td>No</td>\n",
       "      <td>No</td>\n",
       "      <td>2008</td>\n",
       "      <td>12</td>\n",
       "      <td>-2.449294e-16</td>\n",
       "      <td>1.0</td>\n",
       "      <td>1</td>\n",
       "      <td>0.201299</td>\n",
       "      <td>0.979530</td>\n",
       "    </tr>\n",
       "    <tr>\n",
       "      <th>1</th>\n",
       "      <td>2008-12-02</td>\n",
       "      <td>Albury</td>\n",
       "      <td>7.4</td>\n",
       "      <td>25.1</td>\n",
       "      <td>0.0</td>\n",
       "      <td>NaN</td>\n",
       "      <td>NaN</td>\n",
       "      <td>WNW</td>\n",
       "      <td>44.0</td>\n",
       "      <td>NNW</td>\n",
       "      <td>...</td>\n",
       "      <td>24.3</td>\n",
       "      <td>No</td>\n",
       "      <td>No</td>\n",
       "      <td>2008</td>\n",
       "      <td>12</td>\n",
       "      <td>-2.449294e-16</td>\n",
       "      <td>1.0</td>\n",
       "      <td>2</td>\n",
       "      <td>0.394356</td>\n",
       "      <td>0.918958</td>\n",
       "    </tr>\n",
       "    <tr>\n",
       "      <th>2</th>\n",
       "      <td>2008-12-03</td>\n",
       "      <td>Albury</td>\n",
       "      <td>12.9</td>\n",
       "      <td>25.7</td>\n",
       "      <td>0.0</td>\n",
       "      <td>NaN</td>\n",
       "      <td>NaN</td>\n",
       "      <td>WSW</td>\n",
       "      <td>46.0</td>\n",
       "      <td>W</td>\n",
       "      <td>...</td>\n",
       "      <td>23.2</td>\n",
       "      <td>No</td>\n",
       "      <td>No</td>\n",
       "      <td>2008</td>\n",
       "      <td>12</td>\n",
       "      <td>-2.449294e-16</td>\n",
       "      <td>1.0</td>\n",
       "      <td>3</td>\n",
       "      <td>0.571268</td>\n",
       "      <td>0.820763</td>\n",
       "    </tr>\n",
       "    <tr>\n",
       "      <th>3</th>\n",
       "      <td>2008-12-04</td>\n",
       "      <td>Albury</td>\n",
       "      <td>9.2</td>\n",
       "      <td>28.0</td>\n",
       "      <td>0.0</td>\n",
       "      <td>NaN</td>\n",
       "      <td>NaN</td>\n",
       "      <td>NE</td>\n",
       "      <td>24.0</td>\n",
       "      <td>SE</td>\n",
       "      <td>...</td>\n",
       "      <td>26.5</td>\n",
       "      <td>No</td>\n",
       "      <td>No</td>\n",
       "      <td>2008</td>\n",
       "      <td>12</td>\n",
       "      <td>-2.449294e-16</td>\n",
       "      <td>1.0</td>\n",
       "      <td>4</td>\n",
       "      <td>0.724793</td>\n",
       "      <td>0.688967</td>\n",
       "    </tr>\n",
       "    <tr>\n",
       "      <th>4</th>\n",
       "      <td>2008-12-05</td>\n",
       "      <td>Albury</td>\n",
       "      <td>17.5</td>\n",
       "      <td>32.3</td>\n",
       "      <td>1.0</td>\n",
       "      <td>NaN</td>\n",
       "      <td>NaN</td>\n",
       "      <td>W</td>\n",
       "      <td>41.0</td>\n",
       "      <td>ENE</td>\n",
       "      <td>...</td>\n",
       "      <td>29.7</td>\n",
       "      <td>No</td>\n",
       "      <td>No</td>\n",
       "      <td>2008</td>\n",
       "      <td>12</td>\n",
       "      <td>-2.449294e-16</td>\n",
       "      <td>1.0</td>\n",
       "      <td>5</td>\n",
       "      <td>0.848644</td>\n",
       "      <td>0.528964</td>\n",
       "    </tr>\n",
       "  </tbody>\n",
       "</table>\n",
       "<p>5 rows × 30 columns</p>\n",
       "</div>"
      ],
      "text/plain": [
       "        Date Location  MinTemp  MaxTemp  Rainfall  Evaporation  Sunshine  \\\n",
       "0 2008-12-01   Albury     13.4     22.9       0.6          NaN       NaN   \n",
       "1 2008-12-02   Albury      7.4     25.1       0.0          NaN       NaN   \n",
       "2 2008-12-03   Albury     12.9     25.7       0.0          NaN       NaN   \n",
       "3 2008-12-04   Albury      9.2     28.0       0.0          NaN       NaN   \n",
       "4 2008-12-05   Albury     17.5     32.3       1.0          NaN       NaN   \n",
       "\n",
       "  WindGustDir  WindGustSpeed WindDir9am  ... Temp3pm  RainToday  RainTomorrow  \\\n",
       "0           W           44.0          W  ...    21.8         No            No   \n",
       "1         WNW           44.0        NNW  ...    24.3         No            No   \n",
       "2         WSW           46.0          W  ...    23.2         No            No   \n",
       "3          NE           24.0         SE  ...    26.5         No            No   \n",
       "4           W           41.0        ENE  ...    29.7         No            No   \n",
       "\n",
       "   year  month     month_sin  month_cos  day   day_sin   day_cos  \n",
       "0  2008     12 -2.449294e-16        1.0    1  0.201299  0.979530  \n",
       "1  2008     12 -2.449294e-16        1.0    2  0.394356  0.918958  \n",
       "2  2008     12 -2.449294e-16        1.0    3  0.571268  0.820763  \n",
       "3  2008     12 -2.449294e-16        1.0    4  0.724793  0.688967  \n",
       "4  2008     12 -2.449294e-16        1.0    5  0.848644  0.528964  \n",
       "\n",
       "[5 rows x 30 columns]"
      ]
     },
     "execution_count": 13,
     "metadata": {},
     "output_type": "execute_result"
    }
   ],
   "source": [
    "df['Date']= pd.to_datetime(df[\"Date\"])\n",
    "\n",
    "#Creating a column of year\n",
    "df['year'] = df.Date.dt.year\n",
    "\n",
    "def encode(df, col, max_val):\n",
    "    df[col + '_sin'] = np.sin(2 * np.pi * df[col]/max_val)\n",
    "    df[col + '_cos'] = np.cos(2 * np.pi * df[col]/max_val)\n",
    "    return df\n",
    "\n",
    "# Creating sin and cosine columns for month columns\n",
    "df['month'] = df.Date.dt.month\n",
    "df = encode(df, 'month', 12)\n",
    "\n",
    "# Creating sin and cosine columns for day columns\n",
    "df['day'] = df.Date.dt.day\n",
    "df = encode(df, 'day', 31)\n",
    "\n",
    "df.head()"
   ]
  },
  {
   "cell_type": "code",
   "execution_count": 14,
   "metadata": {},
   "outputs": [
    {
     "data": {
      "text/plain": [
       "Text(0.5, 0, 'Sine Encoded Months')"
      ]
     },
     "execution_count": 14,
     "metadata": {},
     "output_type": "execute_result"
    },
    {
     "data": {
      "image/png": "[encoded data removed]",
      "text/plain": [
       "<Figure size 432x288 with 1 Axes>"
      ]
     },
     "metadata": {
      "needs_background": "light"
     },
     "output_type": "display_data"
    }
   ],
   "source": [
    "cyclic_month = sns.scatterplot(x=\"month_sin\",y=\"month_cos\",data=df, color=\"#FF0000\")\n",
    "cyclic_month.set_title(\"Cyclic Encoding of Month\")\n",
    "cyclic_month.set_ylabel(\"Cosine Encoded Months\")\n",
    "cyclic_month.set_xlabel(\"Sine Encoded Months\")"
   ]
  },
  {
   "cell_type": "code",
   "execution_count": 15,
   "metadata": {},
   "outputs": [
    {
     "data": {
      "text/plain": [
       "Text(0.5, 0, 'Sine Encoded Day')"
      ]
     },
     "execution_count": 15,
     "metadata": {},
     "output_type": "execute_result"
    },
    {
     "data": {
      "image/png": "[encoded data removed]",
      "text/plain": [
       "<Figure size 432x288 with 1 Axes>"
      ]
     },
     "metadata": {
      "needs_background": "light"
     },
     "output_type": "display_data"
    }
   ],
   "source": [
    "cyclic_day = sns.scatterplot(x='day_sin',y='day_cos',data=df, color=\"#FF0000\")\n",
    "cyclic_day.set_title(\"Cyclic Encoding of Day\")\n",
    "cyclic_day.set_ylabel(\"Cosine Encoded Day\")\n",
    "cyclic_day.set_xlabel(\"Sine Encoded Day\")"
   ]
  },
  {
   "cell_type": "markdown",
   "metadata": {},
   "source": [
    "## Bước 2: Fill các trường dữ liệu kiểu phân loại"
   ]
  },
  {
   "cell_type": "code",
   "execution_count": 16,
   "metadata": {},
   "outputs": [
    {
     "name": "stdout",
     "output_type": "stream",
     "text": [
      "Categotical variables: \n",
      "['Location', 'WindGustDir', 'WindDir9am', 'WindDir3pm', 'RainToday', 'RainTomorrow']\n"
     ]
    }
   ],
   "source": [
    "s = (df.dtypes == \"object\")\n",
    "object_cols = list(s[s].index)\n",
    "\n",
    "print(\"Categotical variables: \")\n",
    "print(object_cols)"
   ]
  },
  {
   "cell_type": "code",
   "execution_count": 17,
   "metadata": {},
   "outputs": [
    {
     "name": "stdout",
     "output_type": "stream",
     "text": [
      "Categorical missing value:\n",
      "Location 0\n",
      "WindGustDir 10326\n",
      "WindDir9am 10566\n",
      "WindDir3pm 4228\n",
      "RainToday 3261\n",
      "RainTomorrow 3267\n"
     ]
    }
   ],
   "source": [
    "# Missing values in categorical variables\n",
    "print(\"Categorical missing value:\")\n",
    "\n",
    "for i in object_cols:\n",
    "    print(i, df[i].isnull().sum())"
   ]
  },
  {
   "cell_type": "code",
   "execution_count": 18,
   "metadata": {},
   "outputs": [],
   "source": [
    "# Filling missing values with mode of the column in value\n",
    "\n",
    "for i in object_cols:\n",
    "    df[i].fillna(df[i].mode()[0], inplace=True)"
   ]
  },
  {
   "cell_type": "markdown",
   "metadata": {},
   "source": [
    "## Bước 3: Fill các trường dữ liệu kiểu số"
   ]
  },
  {
   "cell_type": "code",
   "execution_count": 19,
   "metadata": {},
   "outputs": [
    {
     "name": "stdout",
     "output_type": "stream",
     "text": [
      "Neumeric variables:\n",
      "['MinTemp', 'MaxTemp', 'Rainfall', 'Evaporation', 'Sunshine', 'WindGustSpeed', 'WindSpeed9am', 'WindSpeed3pm', 'Humidity9am', 'Humidity3pm', 'Pressure9am', 'Pressure3pm', 'Cloud9am', 'Cloud3pm', 'Temp9am', 'Temp3pm', 'month_sin', 'month_cos', 'day_sin', 'day_cos']\n"
     ]
    }
   ],
   "source": [
    "# Get list of neumeric variables\n",
    "t = (df.dtypes == \"float64\")\n",
    "num_cols = list(t[t].index)\n",
    "\n",
    "print(\"Neumeric variables:\")\n",
    "print(num_cols)"
   ]
  },
  {
   "cell_type": "code",
   "execution_count": 20,
   "metadata": {},
   "outputs": [
    {
     "name": "stdout",
     "output_type": "stream",
     "text": [
      "Numerical missing value:\n",
      "MinTemp 1485\n",
      "MaxTemp 1261\n",
      "Rainfall 3261\n",
      "Evaporation 62790\n",
      "Sunshine 69835\n",
      "WindGustSpeed 10263\n",
      "WindSpeed9am 1767\n",
      "WindSpeed3pm 3062\n",
      "Humidity9am 2654\n",
      "Humidity3pm 4507\n",
      "Pressure9am 15065\n",
      "Pressure3pm 15028\n",
      "Cloud9am 55888\n",
      "Cloud3pm 59358\n",
      "Temp9am 1767\n",
      "Temp3pm 3609\n",
      "month_sin 0\n",
      "month_cos 0\n",
      "day_sin 0\n",
      "day_cos 0\n"
     ]
    }
   ],
   "source": [
    "# Missing values in numeric variables\n",
    "print(\"Numerical missing value:\")\n",
    "\n",
    "for i in num_cols:\n",
    "    print(i, df[i].isnull().sum())"
   ]
  },
  {
   "cell_type": "code",
   "execution_count": 21,
   "metadata": {},
   "outputs": [],
   "source": [
    "# Filling missing values with median of the column in value\n",
    "\n",
    "for i in num_cols:\n",
    "    df[i].fillna(df[i].median(), inplace=True)"
   ]
  },
  {
   "cell_type": "code",
   "execution_count": 22,
   "metadata": {},
   "outputs": [
    {
     "name": "stdout",
     "output_type": "stream",
     "text": [
      "<class 'pandas.core.frame.DataFrame'>\n",
      "RangeIndex: 145460 entries, 0 to 145459\n",
      "Data columns (total 30 columns):\n",
      " #   Column         Non-Null Count   Dtype         \n",
      "---  ------         --------------   -----         \n",
      " 0   Date           145460 non-null  datetime64[ns]\n",
      " 1   Location       145460 non-null  object        \n",
      " 2   MinTemp        145460 non-null  float64       \n",
      " 3   MaxTemp        145460 non-null  float64       \n",
      " 4   Rainfall       145460 non-null  float64       \n",
      " 5   Evaporation    145460 non-null  float64       \n",
      " 6   Sunshine       145460 non-null  float64       \n",
      " 7   WindGustDir    145460 non-null  object        \n",
      " 8   WindGustSpeed  145460 non-null  float64       \n",
      " 9   WindDir9am     145460 non-null  object        \n",
      " 10  WindDir3pm     145460 non-null  object        \n",
      " 11  WindSpeed9am   145460 non-null  float64       \n",
      " 12  WindSpeed3pm   145460 non-null  float64       \n",
      " 13  Humidity9am    145460 non-null  float64       \n",
      " 14  Humidity3pm    145460 non-null  float64       \n",
      " 15  Pressure9am    145460 non-null  float64       \n",
      " 16  Pressure3pm    145460 non-null  float64       \n",
      " 17  Cloud9am       145460 non-null  float64       \n",
      " 18  Cloud3pm       145460 non-null  float64       \n",
      " 19  Temp9am        145460 non-null  float64       \n",
      " 20  Temp3pm        145460 non-null  float64       \n",
      " 21  RainToday      145460 non-null  object        \n",
      " 22  RainTomorrow   145460 non-null  object        \n",
      " 23  year           145460 non-null  int64         \n",
      " 24  month          145460 non-null  int64         \n",
      " 25  month_sin      145460 non-null  float64       \n",
      " 26  month_cos      145460 non-null  float64       \n",
      " 27  day            145460 non-null  int64         \n",
      " 28  day_sin        145460 non-null  float64       \n",
      " 29  day_cos        145460 non-null  float64       \n",
      "dtypes: datetime64[ns](1), float64(20), int64(3), object(6)\n",
      "memory usage: 33.3+ MB\n"
     ]
    }
   ],
   "source": [
    "df.info()"
   ]
  },
  {
   "cell_type": "markdown",
   "metadata": {},
   "source": [
    "## Bước 4: Mã hóa các trường dữ liệu kiểu phân loại"
   ]
  },
  {
   "cell_type": "code",
   "execution_count": 23,
   "metadata": {},
   "outputs": [
    {
     "data": {
      "text/plain": [
       "49"
      ]
     },
     "execution_count": 23,
     "metadata": {},
     "output_type": "execute_result"
    }
   ],
   "source": [
    "len(df['Location'].unique())"
   ]
  },
  {
   "cell_type": "code",
   "execution_count": 24,
   "metadata": {},
   "outputs": [
    {
     "name": "stdout",
     "output_type": "stream",
     "text": [
      "Categorical value:\n",
      "Location\n",
      "WindGustDir\n",
      "WindDir9am\n",
      "WindDir3pm\n",
      "RainToday\n",
      "RainTomorrow\n"
     ]
    }
   ],
   "source": [
    "print(\"Categorical value:\")\n",
    "\n",
    "for col in object_cols:\n",
    "  print(col)"
   ]
  },
  {
   "cell_type": "code",
   "execution_count": 25,
   "metadata": {},
   "outputs": [],
   "source": [
    "label_encoder = LabelEncoder()\n",
    "label_maping = []\n",
    "for i in object_cols:\n",
    "  label_encoder.fit(df[i])\n",
    "  label_maping.append(dict(zip(label_encoder.classes_, label_encoder.transform(label_encoder.classes_))))\n",
    "  df[i] = label_encoder.fit_transform(df[i])"
   ]
  },
  {
   "cell_type": "code",
   "execution_count": 26,
   "metadata": {},
   "outputs": [
    {
     "data": {
      "text/html": [
       "<div>\n",
       "<style scoped>\n",
       "    .dataframe tbody tr th:only-of-type {\n",
       "        vertical-align: middle;\n",
       "    }\n",
       "\n",
       "    .dataframe tbody tr th {\n",
       "        vertical-align: top;\n",
       "    }\n",
       "\n",
       "    .dataframe thead th {\n",
       "        text-align: right;\n",
       "    }\n",
       "</style>\n",
       "<table border=\"1\" class=\"dataframe\">\n",
       "  <thead>\n",
       "    <tr style=\"text-align: right;\">\n",
       "      <th></th>\n",
       "      <th>Location</th>\n",
       "      <th>WindGustDir</th>\n",
       "      <th>WindDir9am</th>\n",
       "      <th>WindDir3pm</th>\n",
       "      <th>RainToday</th>\n",
       "      <th>RainTomorrow</th>\n",
       "    </tr>\n",
       "  </thead>\n",
       "  <tbody>\n",
       "    <tr>\n",
       "      <th>8784</th>\n",
       "      <td>10</td>\n",
       "      <td>12</td>\n",
       "      <td>12</td>\n",
       "      <td>12</td>\n",
       "      <td>1</td>\n",
       "      <td>0</td>\n",
       "    </tr>\n",
       "    <tr>\n",
       "      <th>135123</th>\n",
       "      <td>17</td>\n",
       "      <td>3</td>\n",
       "      <td>6</td>\n",
       "      <td>13</td>\n",
       "      <td>0</td>\n",
       "      <td>0</td>\n",
       "    </tr>\n",
       "    <tr>\n",
       "      <th>72576</th>\n",
       "      <td>20</td>\n",
       "      <td>11</td>\n",
       "      <td>7</td>\n",
       "      <td>12</td>\n",
       "      <td>0</td>\n",
       "      <td>0</td>\n",
       "    </tr>\n",
       "    <tr>\n",
       "      <th>5334</th>\n",
       "      <td>4</td>\n",
       "      <td>14</td>\n",
       "      <td>3</td>\n",
       "      <td>14</td>\n",
       "      <td>1</td>\n",
       "      <td>0</td>\n",
       "    </tr>\n",
       "    <tr>\n",
       "      <th>131929</th>\n",
       "      <td>15</td>\n",
       "      <td>6</td>\n",
       "      <td>6</td>\n",
       "      <td>6</td>\n",
       "      <td>0</td>\n",
       "      <td>0</td>\n",
       "    </tr>\n",
       "    <tr>\n",
       "      <th>73948</th>\n",
       "      <td>25</td>\n",
       "      <td>8</td>\n",
       "      <td>3</td>\n",
       "      <td>12</td>\n",
       "      <td>0</td>\n",
       "      <td>0</td>\n",
       "    </tr>\n",
       "    <tr>\n",
       "      <th>124207</th>\n",
       "      <td>36</td>\n",
       "      <td>2</td>\n",
       "      <td>8</td>\n",
       "      <td>9</td>\n",
       "      <td>0</td>\n",
       "      <td>0</td>\n",
       "    </tr>\n",
       "    <tr>\n",
       "      <th>96788</th>\n",
       "      <td>0</td>\n",
       "      <td>14</td>\n",
       "      <td>14</td>\n",
       "      <td>13</td>\n",
       "      <td>1</td>\n",
       "      <td>1</td>\n",
       "    </tr>\n",
       "    <tr>\n",
       "      <th>68355</th>\n",
       "      <td>18</td>\n",
       "      <td>13</td>\n",
       "      <td>14</td>\n",
       "      <td>13</td>\n",
       "      <td>1</td>\n",
       "      <td>1</td>\n",
       "    </tr>\n",
       "    <tr>\n",
       "      <th>119489</th>\n",
       "      <td>32</td>\n",
       "      <td>4</td>\n",
       "      <td>1</td>\n",
       "      <td>4</td>\n",
       "      <td>0</td>\n",
       "      <td>1</td>\n",
       "    </tr>\n",
       "  </tbody>\n",
       "</table>\n",
       "</div>"
      ],
      "text/plain": [
       "        Location  WindGustDir  WindDir9am  WindDir3pm  RainToday  RainTomorrow\n",
       "8784          10           12          12          12          1             0\n",
       "135123        17            3           6          13          0             0\n",
       "72576         20           11           7          12          0             0\n",
       "5334           4           14           3          14          1             0\n",
       "131929        15            6           6           6          0             0\n",
       "73948         25            8           3          12          0             0\n",
       "124207        36            2           8           9          0             0\n",
       "96788          0           14          14          13          1             1\n",
       "68355         18           13          14          13          1             1\n",
       "119489        32            4           1           4          0             1"
      ]
     },
     "execution_count": 26,
     "metadata": {},
     "output_type": "execute_result"
    }
   ],
   "source": [
    "df[object_cols].sample(10)"
   ]
  },
  {
   "cell_type": "markdown",
   "metadata": {},
   "source": [
    "## Bước 5: Scale các dữ liệu về phân phối chuẩn"
   ]
  },
  {
   "cell_type": "code",
   "execution_count": 27,
   "metadata": {},
   "outputs": [
    {
     "data": {
      "text/html": [
       "<div>\n",
       "<style scoped>\n",
       "    .dataframe tbody tr th:only-of-type {\n",
       "        vertical-align: middle;\n",
       "    }\n",
       "\n",
       "    .dataframe tbody tr th {\n",
       "        vertical-align: top;\n",
       "    }\n",
       "\n",
       "    .dataframe thead th {\n",
       "        text-align: right;\n",
       "    }\n",
       "</style>\n",
       "<table border=\"1\" class=\"dataframe\">\n",
       "  <thead>\n",
       "    <tr style=\"text-align: right;\">\n",
       "      <th></th>\n",
       "      <th>count</th>\n",
       "      <th>mean</th>\n",
       "      <th>std</th>\n",
       "      <th>min</th>\n",
       "      <th>25%</th>\n",
       "      <th>50%</th>\n",
       "      <th>75%</th>\n",
       "      <th>max</th>\n",
       "    </tr>\n",
       "  </thead>\n",
       "  <tbody>\n",
       "    <tr>\n",
       "      <th>Location</th>\n",
       "      <td>145460.0</td>\n",
       "      <td>7.815677e-18</td>\n",
       "      <td>1.000003</td>\n",
       "      <td>-1.672228</td>\n",
       "      <td>-0.899139</td>\n",
       "      <td>0.014511</td>\n",
       "      <td>0.857881</td>\n",
       "      <td>1.701250</td>\n",
       "    </tr>\n",
       "    <tr>\n",
       "      <th>MinTemp</th>\n",
       "      <td>145460.0</td>\n",
       "      <td>-4.501830e-16</td>\n",
       "      <td>1.000003</td>\n",
       "      <td>-3.250525</td>\n",
       "      <td>-0.705659</td>\n",
       "      <td>-0.030170</td>\n",
       "      <td>0.723865</td>\n",
       "      <td>3.410112</td>\n",
       "    </tr>\n",
       "    <tr>\n",
       "      <th>MaxTemp</th>\n",
       "      <td>145460.0</td>\n",
       "      <td>3.001220e-16</td>\n",
       "      <td>1.000003</td>\n",
       "      <td>-3.952405</td>\n",
       "      <td>-0.735852</td>\n",
       "      <td>-0.086898</td>\n",
       "      <td>0.703133</td>\n",
       "      <td>3.510563</td>\n",
       "    </tr>\n",
       "    <tr>\n",
       "      <th>Rainfall</th>\n",
       "      <td>145460.0</td>\n",
       "      <td>7.815677e-18</td>\n",
       "      <td>1.000003</td>\n",
       "      <td>-0.275097</td>\n",
       "      <td>-0.275097</td>\n",
       "      <td>-0.275097</td>\n",
       "      <td>-0.203581</td>\n",
       "      <td>43.945571</td>\n",
       "    </tr>\n",
       "    <tr>\n",
       "      <th>Evaporation</th>\n",
       "      <td>145460.0</td>\n",
       "      <td>-3.282584e-17</td>\n",
       "      <td>1.000003</td>\n",
       "      <td>-1.629472</td>\n",
       "      <td>-0.371139</td>\n",
       "      <td>-0.119472</td>\n",
       "      <td>0.006361</td>\n",
       "      <td>43.985108</td>\n",
       "    </tr>\n",
       "    <tr>\n",
       "      <th>Sunshine</th>\n",
       "      <td>145460.0</td>\n",
       "      <td>-5.424080e-16</td>\n",
       "      <td>1.000003</td>\n",
       "      <td>-2.897217</td>\n",
       "      <td>0.076188</td>\n",
       "      <td>0.148710</td>\n",
       "      <td>0.257494</td>\n",
       "      <td>2.360634</td>\n",
       "    </tr>\n",
       "    <tr>\n",
       "      <th>WindGustDir</th>\n",
       "      <td>145460.0</td>\n",
       "      <td>6.252542e-18</td>\n",
       "      <td>1.000003</td>\n",
       "      <td>-1.724209</td>\n",
       "      <td>-0.872075</td>\n",
       "      <td>0.193094</td>\n",
       "      <td>1.045228</td>\n",
       "      <td>1.471296</td>\n",
       "    </tr>\n",
       "    <tr>\n",
       "      <th>WindGustSpeed</th>\n",
       "      <td>145460.0</td>\n",
       "      <td>1.824961e-16</td>\n",
       "      <td>1.000003</td>\n",
       "      <td>-2.588407</td>\n",
       "      <td>-0.683048</td>\n",
       "      <td>-0.073333</td>\n",
       "      <td>0.460168</td>\n",
       "      <td>7.243246</td>\n",
       "    </tr>\n",
       "    <tr>\n",
       "      <th>WindDir9am</th>\n",
       "      <td>145460.0</td>\n",
       "      <td>7.190423e-17</td>\n",
       "      <td>1.000003</td>\n",
       "      <td>-1.550000</td>\n",
       "      <td>-0.885669</td>\n",
       "      <td>0.000105</td>\n",
       "      <td>0.885879</td>\n",
       "      <td>1.771653</td>\n",
       "    </tr>\n",
       "    <tr>\n",
       "      <th>WindDir3pm</th>\n",
       "      <td>145460.0</td>\n",
       "      <td>8.284618e-17</td>\n",
       "      <td>1.000003</td>\n",
       "      <td>-1.718521</td>\n",
       "      <td>-0.837098</td>\n",
       "      <td>0.044324</td>\n",
       "      <td>0.925747</td>\n",
       "      <td>1.586813</td>\n",
       "    </tr>\n",
       "    <tr>\n",
       "      <th>WindSpeed9am</th>\n",
       "      <td>145460.0</td>\n",
       "      <td>5.627287e-17</td>\n",
       "      <td>1.000003</td>\n",
       "      <td>-1.583291</td>\n",
       "      <td>-0.793380</td>\n",
       "      <td>-0.116314</td>\n",
       "      <td>0.560752</td>\n",
       "      <td>13.086472</td>\n",
       "    </tr>\n",
       "    <tr>\n",
       "      <th>WindSpeed3pm</th>\n",
       "      <td>145460.0</td>\n",
       "      <td>6.565169e-17</td>\n",
       "      <td>1.000003</td>\n",
       "      <td>-2.141841</td>\n",
       "      <td>-0.650449</td>\n",
       "      <td>0.037886</td>\n",
       "      <td>0.611499</td>\n",
       "      <td>7.839016</td>\n",
       "    </tr>\n",
       "    <tr>\n",
       "      <th>Humidity9am</th>\n",
       "      <td>145460.0</td>\n",
       "      <td>2.250915e-16</td>\n",
       "      <td>1.000003</td>\n",
       "      <td>-3.654212</td>\n",
       "      <td>-0.631189</td>\n",
       "      <td>0.058273</td>\n",
       "      <td>0.747734</td>\n",
       "      <td>1.649338</td>\n",
       "    </tr>\n",
       "    <tr>\n",
       "      <th>Humidity3pm</th>\n",
       "      <td>145460.0</td>\n",
       "      <td>-8.440931e-17</td>\n",
       "      <td>1.000003</td>\n",
       "      <td>-2.518329</td>\n",
       "      <td>-0.710918</td>\n",
       "      <td>0.021816</td>\n",
       "      <td>0.656852</td>\n",
       "      <td>2.366565</td>\n",
       "    </tr>\n",
       "    <tr>\n",
       "      <th>Pressure9am</th>\n",
       "      <td>145460.0</td>\n",
       "      <td>-4.314254e-16</td>\n",
       "      <td>1.000003</td>\n",
       "      <td>-5.520544</td>\n",
       "      <td>-0.616005</td>\n",
       "      <td>-0.006653</td>\n",
       "      <td>0.617561</td>\n",
       "      <td>3.471111</td>\n",
       "    </tr>\n",
       "    <tr>\n",
       "      <th>Pressure3pm</th>\n",
       "      <td>145460.0</td>\n",
       "      <td>5.027043e-15</td>\n",
       "      <td>1.000003</td>\n",
       "      <td>-5.724832</td>\n",
       "      <td>-0.622769</td>\n",
       "      <td>-0.007520</td>\n",
       "      <td>0.622735</td>\n",
       "      <td>3.653960</td>\n",
       "    </tr>\n",
       "    <tr>\n",
       "      <th>Cloud9am</th>\n",
       "      <td>145460.0</td>\n",
       "      <td>-1.016038e-16</td>\n",
       "      <td>1.000003</td>\n",
       "      <td>-2.042425</td>\n",
       "      <td>-0.727490</td>\n",
       "      <td>0.149133</td>\n",
       "      <td>0.587445</td>\n",
       "      <td>1.902380</td>\n",
       "    </tr>\n",
       "    <tr>\n",
       "      <th>Cloud3pm</th>\n",
       "      <td>145460.0</td>\n",
       "      <td>7.346736e-17</td>\n",
       "      <td>1.000003</td>\n",
       "      <td>-2.235619</td>\n",
       "      <td>-0.336969</td>\n",
       "      <td>0.137693</td>\n",
       "      <td>0.612356</td>\n",
       "      <td>2.036343</td>\n",
       "    </tr>\n",
       "    <tr>\n",
       "      <th>Temp9am</th>\n",
       "      <td>145460.0</td>\n",
       "      <td>7.503050e-17</td>\n",
       "      <td>1.000003</td>\n",
       "      <td>-3.750358</td>\n",
       "      <td>-0.726764</td>\n",
       "      <td>-0.044517</td>\n",
       "      <td>0.699753</td>\n",
       "      <td>3.599302</td>\n",
       "    </tr>\n",
       "    <tr>\n",
       "      <th>Temp3pm</th>\n",
       "      <td>145460.0</td>\n",
       "      <td>-6.877796e-17</td>\n",
       "      <td>1.000003</td>\n",
       "      <td>-3.951301</td>\n",
       "      <td>-0.725322</td>\n",
       "      <td>-0.083046</td>\n",
       "      <td>0.661411</td>\n",
       "      <td>3.653834</td>\n",
       "    </tr>\n",
       "    <tr>\n",
       "      <th>RainToday</th>\n",
       "      <td>145460.0</td>\n",
       "      <td>-8.988029e-18</td>\n",
       "      <td>1.000003</td>\n",
       "      <td>-0.529795</td>\n",
       "      <td>-0.529795</td>\n",
       "      <td>-0.529795</td>\n",
       "      <td>-0.529795</td>\n",
       "      <td>1.887521</td>\n",
       "    </tr>\n",
       "    <tr>\n",
       "      <th>year</th>\n",
       "      <td>145460.0</td>\n",
       "      <td>2.080221e-14</td>\n",
       "      <td>1.000003</td>\n",
       "      <td>-2.273637</td>\n",
       "      <td>-0.697391</td>\n",
       "      <td>0.090732</td>\n",
       "      <td>0.878855</td>\n",
       "      <td>1.666978</td>\n",
       "    </tr>\n",
       "    <tr>\n",
       "      <th>month_sin</th>\n",
       "      <td>145460.0</td>\n",
       "      <td>-4.884798e-17</td>\n",
       "      <td>1.000003</td>\n",
       "      <td>-1.434333</td>\n",
       "      <td>-0.725379</td>\n",
       "      <td>-0.016425</td>\n",
       "      <td>0.692529</td>\n",
       "      <td>1.401483</td>\n",
       "    </tr>\n",
       "    <tr>\n",
       "      <th>month_cos</th>\n",
       "      <td>145460.0</td>\n",
       "      <td>-2.745257e-17</td>\n",
       "      <td>1.000003</td>\n",
       "      <td>-1.388032</td>\n",
       "      <td>-1.198979</td>\n",
       "      <td>0.023080</td>\n",
       "      <td>0.728636</td>\n",
       "      <td>1.434192</td>\n",
       "    </tr>\n",
       "    <tr>\n",
       "      <th>day_sin</th>\n",
       "      <td>145460.0</td>\n",
       "      <td>3.565903e-18</td>\n",
       "      <td>1.000003</td>\n",
       "      <td>-1.403140</td>\n",
       "      <td>-1.019170</td>\n",
       "      <td>-0.003198</td>\n",
       "      <td>1.012774</td>\n",
       "      <td>1.396744</td>\n",
       "    </tr>\n",
       "    <tr>\n",
       "      <th>day_cos</th>\n",
       "      <td>145460.0</td>\n",
       "      <td>-1.413538e-17</td>\n",
       "      <td>1.000003</td>\n",
       "      <td>-1.392587</td>\n",
       "      <td>-1.055520</td>\n",
       "      <td>-0.044639</td>\n",
       "      <td>1.011221</td>\n",
       "      <td>1.455246</td>\n",
       "    </tr>\n",
       "  </tbody>\n",
       "</table>\n",
       "</div>"
      ],
      "text/plain": [
       "                  count          mean       std       min       25%       50%  \\\n",
       "Location       145460.0  7.815677e-18  1.000003 -1.672228 -0.899139  0.014511   \n",
       "MinTemp        145460.0 -4.501830e-16  1.000003 -3.250525 -0.705659 -0.030170   \n",
       "MaxTemp        145460.0  3.001220e-16  1.000003 -3.952405 -0.735852 -0.086898   \n",
       "Rainfall       145460.0  7.815677e-18  1.000003 -0.275097 -0.275097 -0.275097   \n",
       "Evaporation    145460.0 -3.282584e-17  1.000003 -1.629472 -0.371139 -0.119472   \n",
       "Sunshine       145460.0 -5.424080e-16  1.000003 -2.897217  0.076188  0.148710   \n",
       "WindGustDir    145460.0  6.252542e-18  1.000003 -1.724209 -0.872075  0.193094   \n",
       "WindGustSpeed  145460.0  1.824961e-16  1.000003 -2.588407 -0.683048 -0.073333   \n",
       "WindDir9am     145460.0  7.190423e-17  1.000003 -1.550000 -0.885669  0.000105   \n",
       "WindDir3pm     145460.0  8.284618e-17  1.000003 -1.718521 -0.837098  0.044324   \n",
       "WindSpeed9am   145460.0  5.627287e-17  1.000003 -1.583291 -0.793380 -0.116314   \n",
       "WindSpeed3pm   145460.0  6.565169e-17  1.000003 -2.141841 -0.650449  0.037886   \n",
       "Humidity9am    145460.0  2.250915e-16  1.000003 -3.654212 -0.631189  0.058273   \n",
       "Humidity3pm    145460.0 -8.440931e-17  1.000003 -2.518329 -0.710918  0.021816   \n",
       "Pressure9am    145460.0 -4.314254e-16  1.000003 -5.520544 -0.616005 -0.006653   \n",
       "Pressure3pm    145460.0  5.027043e-15  1.000003 -5.724832 -0.622769 -0.007520   \n",
       "Cloud9am       145460.0 -1.016038e-16  1.000003 -2.042425 -0.727490  0.149133   \n",
       "Cloud3pm       145460.0  7.346736e-17  1.000003 -2.235619 -0.336969  0.137693   \n",
       "Temp9am        145460.0  7.503050e-17  1.000003 -3.750358 -0.726764 -0.044517   \n",
       "Temp3pm        145460.0 -6.877796e-17  1.000003 -3.951301 -0.725322 -0.083046   \n",
       "RainToday      145460.0 -8.988029e-18  1.000003 -0.529795 -0.529795 -0.529795   \n",
       "year           145460.0  2.080221e-14  1.000003 -2.273637 -0.697391  0.090732   \n",
       "month_sin      145460.0 -4.884798e-17  1.000003 -1.434333 -0.725379 -0.016425   \n",
       "month_cos      145460.0 -2.745257e-17  1.000003 -1.388032 -1.198979  0.023080   \n",
       "day_sin        145460.0  3.565903e-18  1.000003 -1.403140 -1.019170 -0.003198   \n",
       "day_cos        145460.0 -1.413538e-17  1.000003 -1.392587 -1.055520 -0.044639   \n",
       "\n",
       "                    75%        max  \n",
       "Location       0.857881   1.701250  \n",
       "MinTemp        0.723865   3.410112  \n",
       "MaxTemp        0.703133   3.510563  \n",
       "Rainfall      -0.203581  43.945571  \n",
       "Evaporation    0.006361  43.985108  \n",
       "Sunshine       0.257494   2.360634  \n",
       "WindGustDir    1.045228   1.471296  \n",
       "WindGustSpeed  0.460168   7.243246  \n",
       "WindDir9am     0.885879   1.771653  \n",
       "WindDir3pm     0.925747   1.586813  \n",
       "WindSpeed9am   0.560752  13.086472  \n",
       "WindSpeed3pm   0.611499   7.839016  \n",
       "Humidity9am    0.747734   1.649338  \n",
       "Humidity3pm    0.656852   2.366565  \n",
       "Pressure9am    0.617561   3.471111  \n",
       "Pressure3pm    0.622735   3.653960  \n",
       "Cloud9am       0.587445   1.902380  \n",
       "Cloud3pm       0.612356   2.036343  \n",
       "Temp9am        0.699753   3.599302  \n",
       "Temp3pm        0.661411   3.653834  \n",
       "RainToday     -0.529795   1.887521  \n",
       "year           0.878855   1.666978  \n",
       "month_sin      0.692529   1.401483  \n",
       "month_cos      0.728636   1.434192  \n",
       "day_sin        1.012774   1.396744  \n",
       "day_cos        1.011221   1.455246  "
      ]
     },
     "execution_count": 27,
     "metadata": {},
     "output_type": "execute_result"
    }
   ],
   "source": [
    "# Prepairing attributes of scale data\n",
    "\n",
    "features = df.drop(['RainTomorrow', 'Date','day', 'month'], axis=1) # dropping target and extra columns\n",
    "\n",
    "target = df['RainTomorrow']\n",
    "\n",
    "#Set up a standard scaler for the features\n",
    "col_names = list(features.columns)\n",
    "s_scaler = preprocessing.StandardScaler()\n",
    "features = s_scaler.fit_transform(features)\n",
    "features = pd.DataFrame(features, columns=col_names) \n",
    "\n",
    "features.describe().T"
   ]
  },
  {
   "cell_type": "code",
   "execution_count": 28,
   "metadata": {},
   "outputs": [
    {
     "data": {
      "image/png": "[encoded data removed]",
      "text/plain": [
       "<Figure size 1440x720 with 1 Axes>"
      ]
     },
     "metadata": {
      "needs_background": "light"
     },
     "output_type": "display_data"
    }
   ],
   "source": [
    "#Detecting outliers\n",
    "#looking at the scaled features\n",
    "colours = [\"#D0DBEE\", \"#C2C4E2\", \"#EED4E5\", \"#D1E6DC\", \"#BDE2E2\"]\n",
    "plt.figure(figsize=(20,10))\n",
    "sns.boxenplot(data = features,palette = colours)\n",
    "plt.xticks(rotation=90)\n",
    "plt.show()"
   ]
  },
  {
   "cell_type": "markdown",
   "metadata": {},
   "source": [
    "## Bước 6: Loại bỏ các dữ liệu outliner"
   ]
  },
  {
   "cell_type": "code",
   "execution_count": 29,
   "metadata": {},
   "outputs": [
    {
     "data": {
      "text/plain": [
       "(127536, 27)"
      ]
     },
     "execution_count": 29,
     "metadata": {},
     "output_type": "execute_result"
    }
   ],
   "source": [
    "#full data for \n",
    "features[\"RainTomorrow\"] = target\n",
    "\n",
    "#Dropping with outlier\n",
    "\n",
    "features = features[(features[\"MinTemp\"]<2.3)&(features[\"MinTemp\"]>-2.3)]\n",
    "features = features[(features[\"MaxTemp\"]<2.3)&(features[\"MaxTemp\"]>-2)]\n",
    "features = features[(features[\"Rainfall\"]<4.5)]\n",
    "features = features[(features[\"Evaporation\"]<2.8)]\n",
    "features = features[(features[\"Sunshine\"]<2.1)]\n",
    "features = features[(features[\"WindGustSpeed\"]<4)&(features[\"WindGustSpeed\"]>-4)]\n",
    "features = features[(features[\"WindSpeed9am\"]<4)]\n",
    "features = features[(features[\"WindSpeed3pm\"]<2.5)]\n",
    "features = features[(features[\"Humidity9am\"]>-3)]\n",
    "features = features[(features[\"Humidity3pm\"]>-2.2)]\n",
    "features = features[(features[\"Pressure9am\"]< 2)&(features[\"Pressure9am\"]>-2.7)]\n",
    "features = features[(features[\"Pressure3pm\"]< 2)&(features[\"Pressure3pm\"]>-2.7)]\n",
    "features = features[(features[\"Cloud9am\"]<1.8)]\n",
    "features = features[(features[\"Cloud3pm\"]<2)]\n",
    "features = features[(features[\"Temp9am\"]<2.3)&(features[\"Temp9am\"]>-2)]\n",
    "features = features[(features[\"Temp3pm\"]<2.3)&(features[\"Temp3pm\"]>-2)]\n",
    "\n",
    "\n",
    "features.shape"
   ]
  },
  {
   "cell_type": "code",
   "execution_count": 30,
   "metadata": {},
   "outputs": [
    {
     "data": {
      "image/png": "[encoded data removed]",
      "text/plain": [
       "<Figure size 1440x720 with 1 Axes>"
      ]
     },
     "metadata": {
      "needs_background": "light"
     },
     "output_type": "display_data"
    }
   ],
   "source": [
    "# View the scaled features without outliers\n",
    "\n",
    "plt.figure(figsize=(20,10))\n",
    "sns.boxenplot(data = features,palette = colours)\n",
    "plt.xticks(rotation=90)\n",
    "plt.show()"
   ]
  },
  {
   "cell_type": "markdown",
   "metadata": {},
   "source": [
    "# Data preview after preprocessing"
   ]
  },
  {
   "cell_type": "code",
   "execution_count": 33,
   "metadata": {},
   "outputs": [
    {
     "data": {
      "text/plain": [
       "Location         100157\n",
       "MinTemp          100157\n",
       "MaxTemp          100157\n",
       "Rainfall         100157\n",
       "Evaporation      100157\n",
       "Sunshine         100157\n",
       "WindGustDir      100157\n",
       "WindGustSpeed    100157\n",
       "WindDir9am       100157\n",
       "WindDir3pm       100157\n",
       "WindSpeed9am     100157\n",
       "WindSpeed3pm     100157\n",
       "Humidity9am      100157\n",
       "Humidity3pm      100157\n",
       "Pressure9am      100157\n",
       "Pressure3pm      100157\n",
       "Cloud9am         100157\n",
       "Cloud3pm         100157\n",
       "Temp9am          100157\n",
       "Temp3pm          100157\n",
       "RainToday        100157\n",
       "year             100157\n",
       "month_sin        100157\n",
       "month_cos        100157\n",
       "day_sin          100157\n",
       "day_cos          100157\n",
       "RainTomorrow     100157\n",
       "dtype: int64"
      ]
     },
     "execution_count": 33,
     "metadata": {},
     "output_type": "execute_result"
    }
   ],
   "source": [
    "features[features[\"RainTomorrow\"] == 0].count()"
   ]
  },
  {
   "cell_type": "code",
   "execution_count": 31,
   "metadata": {},
   "outputs": [
    {
     "data": {
      "text/plain": [
       "<AxesSubplot:xlabel='RainTomorrow', ylabel='count'>"
      ]
     },
     "execution_count": 31,
     "metadata": {},
     "output_type": "execute_result"
    },
    {
     "data": {
      "image/png": "[encoded data removed]",
      "text/plain": [
       "<Figure size 432x288 with 1 Axes>"
      ]
     },
     "metadata": {
      "needs_background": "light"
     },
     "output_type": "display_data"
    }
   ],
   "source": [
    "#first of all let us evaluate the target and find out if our data is imbalanced or not\n",
    "colors= [\"#FF0000\",\"#00FF11\"]\n",
    "sns.countplot(x= features[\"RainTomorrow\"], palette= colors)"
   ]
  },
  {
   "cell_type": "code",
   "execution_count": 148,
   "metadata": {},
   "outputs": [],
   "source": [
    "# Now we can use this data to build and train our model\n",
    "features.to_csv(\"weatherAUS-preprocess.csv\", index=False)"
   ]
  }
 ],
 "metadata": {
  "kernelspec": {
   "display_name": "Python 3.8.10 ('.venv': venv)",
   "language": "python",
   "name": "python3"
  },
  "language_info": {
   "codemirror_mode": {
    "name": "ipython",
    "version": 3
   },
   "file_extension": ".py",
   "mimetype": "text/x-python",
   "name": "python",
   "nbconvert_exporter": "python",
   "pygments_lexer": "ipython3",
   "version": "3.8.10"
  },
  "orig_nbformat": 4,
  "vscode": {
   "interpreter": {
    "hash": "64606affa4aa5618273cd769d4299cee0a1a053c7b808166c70542da8c3ea7b1"
   }
  }
 },
 "nbformat": 4,
 "nbformat_minor": 2
}
