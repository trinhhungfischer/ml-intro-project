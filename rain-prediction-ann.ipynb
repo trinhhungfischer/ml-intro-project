{
 "cells": [
  {
   "cell_type": "code",
   "execution_count": 2,
   "metadata": {},
   "outputs": [
    {
     "name": "stderr",
     "output_type": "stream",
     "text": [
      "2022-07-16 04:48:57.663125: W tensorflow/stream_executor/platform/default/dso_loader.cc:64] Could not load dynamic library 'libcudart.so.11.0'; dlerror: libcudart.so.11.0: cannot open shared object file: No such file or directory\n",
      "2022-07-16 04:48:57.663177: I tensorflow/stream_executor/cuda/cudart_stub.cc:29] Ignore above cudart dlerror if you do not have a GPU set up on your machine.\n"
     ]
    }
   ],
   "source": [
    "import pandas as pd\n",
    "import matplotlib.pyplot as plt \n",
    "from sklearn.model_selection import train_test_split\n",
    "import seaborn as sns\n",
    "from keras.layers import Dense, BatchNormalization, Dropout, LSTM\n",
    "from tensorflow.keras import initializers\n",
    "from keras.models import Sequential\n",
    "from tensorflow.keras.utils import to_categorical\n",
    "from tensorflow.keras.optimizers import Adam\n",
    "from tensorflow.keras import regularizers\n",
    "from sklearn.metrics import precision_score, recall_score, confusion_matrix, classification_report, accuracy_score, f1_score\n",
    "from keras import callbacks"
   ]
  },
  {
   "cell_type": "code",
   "execution_count": 4,
   "metadata": {},
   "outputs": [],
   "source": [
    "df = pd.read_csv('weatherAUS-preprocess.csv')"
   ]
  },
  {
   "cell_type": "code",
   "execution_count": 5,
   "metadata": {},
   "outputs": [
    {
     "data": {
      "text/plain": [
       "(127536, 26)"
      ]
     },
     "execution_count": 5,
     "metadata": {},
     "output_type": "execute_result"
    }
   ],
   "source": [
    "X = df.drop([\"RainTomorrow\"], axis=1)\n",
    "y = df[\"RainTomorrow\"]\n",
    "\n",
    "# Splitting test and training sets\n",
    "X_train, X_test, y_train, y_test = train_test_split(X, y, test_size = 0.3, random_state = 42, stratify=y)\n",
    "\n",
    "X.shape"
   ]
  },
  {
   "cell_type": "code",
   "execution_count": 8,
   "metadata": {},
   "outputs": [
    {
     "data": {
      "text/plain": [
       "0    70110\n",
       "1    19165\n",
       "Name: RainTomorrow, dtype: int64"
      ]
     },
     "execution_count": 8,
     "metadata": {},
     "output_type": "execute_result"
    }
   ],
   "source": [
    "y_train.value_counts()"
   ]
  },
  {
   "cell_type": "code",
   "execution_count": 7,
   "metadata": {},
   "outputs": [
    {
     "data": {
      "text/plain": [
       "0    30047\n",
       "1     8214\n",
       "Name: RainTomorrow, dtype: int64"
      ]
     },
     "execution_count": 7,
     "metadata": {},
     "output_type": "execute_result"
    }
   ],
   "source": [
    "y_test.value_counts()"
   ]
  },
  {
   "cell_type": "markdown",
   "metadata": {},
   "source": [
    "## ANN with dropout and weight initializer"
   ]
  },
  {
   "cell_type": "code",
   "execution_count": null,
   "metadata": {
    "colab": {
     "base_uri": "https://localhost:8080/"
    },
    "executionInfo": {
     "elapsed": 524845,
     "status": "ok",
     "timestamp": 1658095947418,
     "user": {
      "displayName": "Hùng Trịnh Quang",
      "userId": "08383140781890786618"
     },
     "user_tz": -420
    },
    "id": "c17aUStxsCHl",
    "outputId": "742ef142-602d-4aef-855d-ee4e36e2c7d9"
   },
   "outputs": [
    {
     "name": "stdout",
     "output_type": "stream",
     "text": [
      "Epoch 1/150\n",
      "2232/2232 [==============================] - 15s 4ms/step - loss: 0.4891 - accuracy: 0.7856 - val_loss: 0.3949 - val_accuracy: 0.7838\n",
      "Epoch 2/150\n",
      "2232/2232 [==============================] - 13s 6ms/step - loss: 0.4190 - accuracy: 0.7857 - val_loss: 0.3879 - val_accuracy: 0.7838\n",
      "Epoch 3/150\n",
      "2232/2232 [==============================] - 13s 6ms/step - loss: 0.4162 - accuracy: 0.7857 - val_loss: 0.3847 - val_accuracy: 0.7838\n",
      "Epoch 4/150\n",
      "2232/2232 [==============================] - 9s 4ms/step - loss: 0.4127 - accuracy: 0.7857 - val_loss: 0.3823 - val_accuracy: 0.7838\n",
      "Epoch 5/150\n",
      "2232/2232 [==============================] - 8s 3ms/step - loss: 0.4124 - accuracy: 0.8038 - val_loss: 0.3785 - val_accuracy: 0.8426\n",
      "Epoch 6/150\n",
      "2232/2232 [==============================] - 7s 3ms/step - loss: 0.4085 - accuracy: 0.8130 - val_loss: 0.3747 - val_accuracy: 0.8456\n",
      "Epoch 7/150\n",
      "2232/2232 [==============================] - 7s 3ms/step - loss: 0.4064 - accuracy: 0.8138 - val_loss: 0.3718 - val_accuracy: 0.8456\n",
      "Epoch 8/150\n",
      "2232/2232 [==============================] - 8s 4ms/step - loss: 0.4026 - accuracy: 0.8142 - val_loss: 0.3694 - val_accuracy: 0.8464\n",
      "Epoch 9/150\n",
      "2232/2232 [==============================] - 8s 4ms/step - loss: 0.4008 - accuracy: 0.8153 - val_loss: 0.3673 - val_accuracy: 0.8465\n",
      "Epoch 10/150\n",
      "2232/2232 [==============================] - 9s 4ms/step - loss: 0.4002 - accuracy: 0.8157 - val_loss: 0.3664 - val_accuracy: 0.8469\n",
      "Epoch 11/150\n",
      "2232/2232 [==============================] - 8s 4ms/step - loss: 0.4000 - accuracy: 0.8155 - val_loss: 0.3656 - val_accuracy: 0.8460\n",
      "Epoch 12/150\n",
      "2232/2232 [==============================] - 7s 3ms/step - loss: 0.3978 - accuracy: 0.8155 - val_loss: 0.3651 - val_accuracy: 0.8463\n",
      "Epoch 13/150\n",
      "2232/2232 [==============================] - 8s 3ms/step - loss: 0.3967 - accuracy: 0.8169 - val_loss: 0.3648 - val_accuracy: 0.8461\n",
      "Epoch 14/150\n",
      "2232/2232 [==============================] - 8s 3ms/step - loss: 0.3990 - accuracy: 0.8151 - val_loss: 0.3643 - val_accuracy: 0.8466\n",
      "Epoch 15/150\n",
      "2232/2232 [==============================] - 8s 3ms/step - loss: 0.3960 - accuracy: 0.8165 - val_loss: 0.3628 - val_accuracy: 0.8468\n",
      "Epoch 16/150\n",
      "2232/2232 [==============================] - 7s 3ms/step - loss: 0.3943 - accuracy: 0.8192 - val_loss: 0.3604 - val_accuracy: 0.8472\n",
      "Epoch 17/150\n",
      "2232/2232 [==============================] - 9s 4ms/step - loss: 0.3923 - accuracy: 0.8287 - val_loss: 0.3588 - val_accuracy: 0.8474\n",
      "Epoch 18/150\n",
      "2232/2232 [==============================] - 7s 3ms/step - loss: 0.3915 - accuracy: 0.8315 - val_loss: 0.3581 - val_accuracy: 0.8471\n",
      "Epoch 19/150\n",
      "2232/2232 [==============================] - 12s 5ms/step - loss: 0.3888 - accuracy: 0.8328 - val_loss: 0.3569 - val_accuracy: 0.8469\n",
      "Epoch 20/150\n",
      "2232/2232 [==============================] - 8s 4ms/step - loss: 0.3870 - accuracy: 0.8333 - val_loss: 0.3566 - val_accuracy: 0.8468\n",
      "Epoch 21/150\n",
      "2232/2232 [==============================] - 11s 5ms/step - loss: 0.3871 - accuracy: 0.8330 - val_loss: 0.3562 - val_accuracy: 0.8474\n",
      "Epoch 22/150\n",
      "2232/2232 [==============================] - 9s 4ms/step - loss: 0.3874 - accuracy: 0.8333 - val_loss: 0.3557 - val_accuracy: 0.8477\n",
      "Epoch 23/150\n",
      "2232/2232 [==============================] - 7s 3ms/step - loss: 0.3855 - accuracy: 0.8338 - val_loss: 0.3550 - val_accuracy: 0.8481\n",
      "Epoch 24/150\n",
      "2232/2232 [==============================] - 8s 3ms/step - loss: 0.3862 - accuracy: 0.8326 - val_loss: 0.3551 - val_accuracy: 0.8469\n",
      "Epoch 25/150\n",
      "2232/2232 [==============================] - 9s 4ms/step - loss: 0.3852 - accuracy: 0.8333 - val_loss: 0.3538 - val_accuracy: 0.8478\n",
      "Epoch 26/150\n",
      "2232/2232 [==============================] - 11s 5ms/step - loss: 0.3844 - accuracy: 0.8326 - val_loss: 0.3534 - val_accuracy: 0.8476\n",
      "Epoch 27/150\n",
      "2232/2232 [==============================] - 10s 5ms/step - loss: 0.3842 - accuracy: 0.8320 - val_loss: 0.3550 - val_accuracy: 0.8451\n",
      "Epoch 28/150\n",
      "2232/2232 [==============================] - 8s 3ms/step - loss: 0.3833 - accuracy: 0.8320 - val_loss: 0.3539 - val_accuracy: 0.8451\n",
      "Epoch 29/150\n",
      "2232/2232 [==============================] - 9s 4ms/step - loss: 0.3846 - accuracy: 0.8304 - val_loss: 0.3535 - val_accuracy: 0.8469\n",
      "Epoch 30/150\n",
      "2232/2232 [==============================] - 10s 5ms/step - loss: 0.3828 - accuracy: 0.8319 - val_loss: 0.3537 - val_accuracy: 0.8459\n",
      "Epoch 31/150\n",
      "2232/2232 [==============================] - 9s 4ms/step - loss: 0.3835 - accuracy: 0.8329 - val_loss: 0.3539 - val_accuracy: 0.8445\n",
      "Epoch 32/150\n",
      "2232/2232 [==============================] - 10s 5ms/step - loss: 0.3830 - accuracy: 0.8317 - val_loss: 0.3533 - val_accuracy: 0.8459\n",
      "Epoch 33/150\n",
      "2232/2232 [==============================] - 10s 4ms/step - loss: 0.3826 - accuracy: 0.8319 - val_loss: 0.3535 - val_accuracy: 0.8448\n",
      "Epoch 34/150\n",
      "2232/2232 [==============================] - 8s 3ms/step - loss: 0.3834 - accuracy: 0.8314 - val_loss: 0.3535 - val_accuracy: 0.8448\n",
      "Epoch 35/150\n",
      "2232/2232 [==============================] - 11s 5ms/step - loss: 0.3816 - accuracy: 0.8334 - val_loss: 0.3537 - val_accuracy: 0.8448\n",
      "Epoch 36/150\n",
      "2232/2232 [==============================] - 8s 3ms/step - loss: 0.3816 - accuracy: 0.8309 - val_loss: 0.3528 - val_accuracy: 0.8450\n",
      "Epoch 37/150\n",
      "2232/2232 [==============================] - 8s 3ms/step - loss: 0.3823 - accuracy: 0.8314 - val_loss: 0.3533 - val_accuracy: 0.8437\n",
      "Epoch 38/150\n",
      "2232/2232 [==============================] - 8s 4ms/step - loss: 0.3820 - accuracy: 0.8306 - val_loss: 0.3524 - val_accuracy: 0.8460\n",
      "Epoch 39/150\n",
      "2232/2232 [==============================] - 13s 6ms/step - loss: 0.3818 - accuracy: 0.8324 - val_loss: 0.3526 - val_accuracy: 0.8449\n",
      "Epoch 40/150\n",
      "2232/2232 [==============================] - 11s 5ms/step - loss: 0.3830 - accuracy: 0.8315 - val_loss: 0.3536 - val_accuracy: 0.8421\n",
      "Epoch 41/150\n",
      "2232/2232 [==============================] - 11s 5ms/step - loss: 0.3813 - accuracy: 0.8308 - val_loss: 0.3535 - val_accuracy: 0.8424\n",
      "Epoch 42/150\n",
      "2232/2232 [==============================] - 7s 3ms/step - loss: 0.3814 - accuracy: 0.8307 - val_loss: 0.3533 - val_accuracy: 0.8439\n",
      "Epoch 43/150\n",
      "2232/2232 [==============================] - 8s 4ms/step - loss: 0.3796 - accuracy: 0.8341 - val_loss: 0.3528 - val_accuracy: 0.8430\n",
      "Epoch 44/150\n",
      "2232/2232 [==============================] - 8s 4ms/step - loss: 0.3813 - accuracy: 0.8314 - val_loss: 0.3520 - val_accuracy: 0.8426\n",
      "Epoch 45/150\n",
      "2232/2232 [==============================] - 8s 3ms/step - loss: 0.3798 - accuracy: 0.8326 - val_loss: 0.3529 - val_accuracy: 0.8424\n",
      "Epoch 46/150\n",
      "2232/2232 [==============================] - 10s 5ms/step - loss: 0.3796 - accuracy: 0.8311 - val_loss: 0.3527 - val_accuracy: 0.8427\n",
      "Epoch 47/150\n",
      "2232/2232 [==============================] - 8s 3ms/step - loss: 0.3804 - accuracy: 0.8326 - val_loss: 0.3543 - val_accuracy: 0.8393\n",
      "Epoch 48/150\n",
      "2232/2232 [==============================] - 8s 3ms/step - loss: 0.3807 - accuracy: 0.8312 - val_loss: 0.3526 - val_accuracy: 0.8430\n",
      "Epoch 49/150\n",
      "2232/2232 [==============================] - 8s 4ms/step - loss: 0.3815 - accuracy: 0.8313 - val_loss: 0.3530 - val_accuracy: 0.8426\n",
      "Epoch 50/150\n",
      "2232/2232 [==============================] - 12s 5ms/step - loss: 0.3791 - accuracy: 0.8318 - val_loss: 0.3529 - val_accuracy: 0.8431\n",
      "Epoch 51/150\n",
      "2232/2232 [==============================] - 10s 5ms/step - loss: 0.3806 - accuracy: 0.8314 - val_loss: 0.3537 - val_accuracy: 0.8407\n",
      "Epoch 52/150\n",
      "2232/2232 [==============================] - 7s 3ms/step - loss: 0.3805 - accuracy: 0.8311 - val_loss: 0.3523 - val_accuracy: 0.8435\n",
      "Epoch 53/150\n",
      "2232/2232 [==============================] - 8s 3ms/step - loss: 0.3798 - accuracy: 0.8322 - val_loss: 0.3528 - val_accuracy: 0.8417\n",
      "Epoch 54/150\n",
      "2232/2232 [==============================] - 9s 4ms/step - loss: 0.3807 - accuracy: 0.8318 - val_loss: 0.3521 - val_accuracy: 0.8436\n",
      "Epoch 55/150\n",
      "2232/2232 [==============================] - 7s 3ms/step - loss: 0.3796 - accuracy: 0.8313 - val_loss: 0.3524 - val_accuracy: 0.8427\n",
      "Epoch 56/150\n",
      "2232/2232 [==============================] - 7s 3ms/step - loss: 0.3791 - accuracy: 0.8320 - val_loss: 0.3527 - val_accuracy: 0.8435\n",
      "Epoch 57/150\n",
      "2232/2232 [==============================] - 8s 3ms/step - loss: 0.3785 - accuracy: 0.8324 - val_loss: 0.3530 - val_accuracy: 0.8414\n",
      "Epoch 58/150\n",
      "2232/2232 [==============================] - 8s 4ms/step - loss: 0.3796 - accuracy: 0.8322 - val_loss: 0.3520 - val_accuracy: 0.8423\n"
     ]
    }
   ],
   "source": [
    "#Early stopping\n",
    "early_stopping = callbacks.EarlyStopping(\n",
    "    min_delta=0.001, # minimium amount of change to count as an improvement\n",
    "    patience=20, # how many epochs to wait before stopping\n",
    "    restore_best_weights=True,\n",
    ")\n",
    "\n",
    "# Initialising the NN\n",
    "model = Sequential()\n",
    "\n",
    "# layers\n",
    "\n",
    "model.add(Dense(units = 32, kernel_initializer = 'uniform', activation = 'relu', input_dim = 26))\n",
    "model.add(Dense(units = 32, kernel_initializer = 'uniform', activation = 'relu'))\n",
    "model.add(Dense(units = 16, kernel_initializer = 'uniform', activation = 'relu'))\n",
    "model.add(Dropout(0.25))\n",
    "model.add(Dense(units = 8, kernel_initializer = 'uniform', activation = 'relu'))\n",
    "model.add(Dropout(0.5))\n",
    "model.add(Dense(units = 1, kernel_initializer = 'uniform', activation = 'sigmoid'))\n",
    "\n",
    "# Compiling the ANN\n",
    "opt = Adam(learning_rate=0.00009)\n",
    "model.compile(optimizer = opt, loss = 'binary_crossentropy', metrics = ['accuracy'])\n",
    "\n",
    "# Train the ANN\n",
    "history = model.fit(X_train, y_train, batch_size = 32, epochs = 150, callbacks=[early_stopping], validation_split=0.2)"
   ]
  },
  {
   "cell_type": "code",
   "execution_count": null,
   "metadata": {
    "colab": {
     "base_uri": "https://localhost:8080/",
     "height": 295
    },
    "executionInfo": {
     "elapsed": 441,
     "status": "ok",
     "timestamp": 1658088160468,
     "user": {
      "displayName": "Hùng Trịnh Quang",
      "userId": "08383140781890786618"
     },
     "user_tz": -420
    },
    "id": "_ILCbTGwsCHn",
    "outputId": "ee83e140-7d22-483a-bc30-e7a2602b039d"
   },
   "outputs": [
    {
     "data": {
      "image/png": "[encoded data removed]",
      "text/plain": [
       "<Figure size 432x288 with 1 Axes>"
      ]
     },
     "metadata": {},
     "output_type": "display_data"
    }
   ],
   "source": [
    "history_df = pd.DataFrame(history.history)\n",
    "\n",
    "plt.plot(history_df.loc[:, ['accuracy']], \"#BDE2E2\", label='Training accuracy')\n",
    "plt.plot(history_df.loc[:, ['val_accuracy']], \"#C2C4E2\", label='Validation accuracy')\n",
    "\n",
    "plt.title('Training and Validation accuracy')\n",
    "plt.xlabel('Epochs')\n",
    "plt.ylabel('Accuracy')\n",
    "plt.legend()\n",
    "plt.show()"
   ]
  },
  {
   "cell_type": "code",
   "execution_count": null,
   "metadata": {},
   "outputs": [],
   "source": [
    "# test\n",
    "y_pred = model.predict(X_test)\n",
    "y_pred = (y_pred > 0.5)"
   ]
  },
  {
   "cell_type": "code",
   "execution_count": null,
   "metadata": {
    "colab": {
     "base_uri": "https://localhost:8080/",
     "height": 500
    },
    "executionInfo": {
     "elapsed": 827,
     "status": "ok",
     "timestamp": 1658088189945,
     "user": {
      "displayName": "Hùng Trịnh Quang",
      "userId": "08383140781890786618"
     },
     "user_tz": -420
    },
    "id": "eF6UmmposCHp",
    "outputId": "7a375977-1dd8-4067-9d26-3207845eacb8"
   },
   "outputs": [
    {
     "data": {
      "text/plain": [
       "<matplotlib.axes._subplots.AxesSubplot at 0x7f81ea0229d0>"
      ]
     },
     "metadata": {},
     "output_type": "display_data"
    },
    {
     "data": {
      "image/png": "[encoded data removed]",
      "text/plain": [
       "<Figure size 864x576 with 2 Axes>"
      ]
     },
     "metadata": {},
     "output_type": "display_data"
    }
   ],
   "source": [
    "# confusion matrix\n",
    "cmap1 = sns.diverging_palette(260,-10,s=50, l=75, n=5, as_cmap=True)\n",
    "plt.subplots(figsize=(12,8))\n",
    "cf_matrix = confusion_matrix(y_test, y_pred)\n",
    "sns.heatmap(cf_matrix/np.sum(cf_matrix), cmap = cmap1, annot = True, annot_kws = {'size':15})"
   ]
  },
  {
   "cell_type": "code",
   "execution_count": null,
   "metadata": {
    "colab": {
     "base_uri": "https://localhost:8080/"
    },
    "executionInfo": {
     "elapsed": 416,
     "status": "ok",
     "timestamp": 1658088196495,
     "user": {
      "displayName": "Hùng Trịnh Quang",
      "userId": "08383140781890786618"
     },
     "user_tz": -420
    },
    "id": "hKg4fN7JsCHp",
    "outputId": "1e1ea1d7-bd16-4c0a-9fd4-a7e36ce4e646"
   },
   "outputs": [
    {
     "name": "stdout",
     "output_type": "stream",
     "text": [
      "              precision    recall  f1-score   support\n",
      "\n",
      "           0       0.85      0.97      0.91     30047\n",
      "           1       0.78      0.38      0.51      8214\n",
      "\n",
      "    accuracy                           0.84     38261\n",
      "   macro avg       0.81      0.68      0.71     38261\n",
      "weighted avg       0.84      0.84      0.82     38261\n",
      "\n"
     ]
    }
   ],
   "source": [
    "print(classification_report(y_test, y_pred, digits = 4))"
   ]
  },
  {
   "cell_type": "markdown",
   "metadata": {
    "id": "eJ71VFtht59Y"
   },
   "source": [
    "## ANN With out dropout"
   ]
  },
  {
   "cell_type": "code",
   "execution_count": null,
   "metadata": {
    "colab": {
     "base_uri": "https://localhost:8080/"
    },
    "executionInfo": {
     "elapsed": 528252,
     "status": "ok",
     "timestamp": 1658088766030,
     "user": {
      "displayName": "Hùng Trịnh Quang",
      "userId": "08383140781890786618"
     },
     "user_tz": -420
    },
    "id": "ahOcATeXt5iR",
    "outputId": "7295a076-1b87-4b58-ffd2-ae4679b9177c"
   },
   "outputs": [
    {
     "name": "stdout",
     "output_type": "stream",
     "text": [
      "Epoch 1/150\n",
      "2232/2232 [==============================] - 9s 4ms/step - loss: 0.4522 - accuracy: 0.7856 - val_loss: 0.3894 - val_accuracy: 0.7838\n",
      "Epoch 2/150\n",
      "2232/2232 [==============================] - 8s 3ms/step - loss: 0.3844 - accuracy: 0.8217 - val_loss: 0.3808 - val_accuracy: 0.8396\n",
      "Epoch 3/150\n",
      "2232/2232 [==============================] - 7s 3ms/step - loss: 0.3784 - accuracy: 0.8409 - val_loss: 0.3761 - val_accuracy: 0.8441\n",
      "Epoch 4/150\n",
      "2232/2232 [==============================] - 8s 3ms/step - loss: 0.3744 - accuracy: 0.8429 - val_loss: 0.3727 - val_accuracy: 0.8453\n",
      "Epoch 5/150\n",
      "2232/2232 [==============================] - 7s 3ms/step - loss: 0.3713 - accuracy: 0.8448 - val_loss: 0.3699 - val_accuracy: 0.8466\n",
      "Epoch 6/150\n",
      "2232/2232 [==============================] - 9s 4ms/step - loss: 0.3688 - accuracy: 0.8455 - val_loss: 0.3675 - val_accuracy: 0.8468\n",
      "Epoch 7/150\n",
      "2232/2232 [==============================] - 7s 3ms/step - loss: 0.3667 - accuracy: 0.8460 - val_loss: 0.3656 - val_accuracy: 0.8472\n",
      "Epoch 8/150\n",
      "2232/2232 [==============================] - 8s 3ms/step - loss: 0.3648 - accuracy: 0.8472 - val_loss: 0.3639 - val_accuracy: 0.8477\n",
      "Epoch 9/150\n",
      "2232/2232 [==============================] - 7s 3ms/step - loss: 0.3631 - accuracy: 0.8471 - val_loss: 0.3626 - val_accuracy: 0.8471\n",
      "Epoch 10/150\n",
      "2232/2232 [==============================] - 8s 3ms/step - loss: 0.3616 - accuracy: 0.8476 - val_loss: 0.3611 - val_accuracy: 0.8472\n",
      "Epoch 11/150\n",
      "2232/2232 [==============================] - 7s 3ms/step - loss: 0.3603 - accuracy: 0.8477 - val_loss: 0.3601 - val_accuracy: 0.8475\n",
      "Epoch 12/150\n",
      "2232/2232 [==============================] - 7s 3ms/step - loss: 0.3591 - accuracy: 0.8478 - val_loss: 0.3592 - val_accuracy: 0.8479\n",
      "Epoch 13/150\n",
      "2232/2232 [==============================] - 7s 3ms/step - loss: 0.3580 - accuracy: 0.8483 - val_loss: 0.3583 - val_accuracy: 0.8487\n",
      "Epoch 14/150\n",
      "2232/2232 [==============================] - 8s 3ms/step - loss: 0.3571 - accuracy: 0.8484 - val_loss: 0.3572 - val_accuracy: 0.8488\n",
      "Epoch 15/150\n",
      "2232/2232 [==============================] - 7s 3ms/step - loss: 0.3562 - accuracy: 0.8484 - val_loss: 0.3562 - val_accuracy: 0.8488\n",
      "Epoch 16/150\n",
      "2232/2232 [==============================] - 7s 3ms/step - loss: 0.3553 - accuracy: 0.8486 - val_loss: 0.3553 - val_accuracy: 0.8489\n",
      "Epoch 17/150\n",
      "2232/2232 [==============================] - 8s 4ms/step - loss: 0.3545 - accuracy: 0.8481 - val_loss: 0.3548 - val_accuracy: 0.8487\n",
      "Epoch 18/150\n",
      "2232/2232 [==============================] - 8s 3ms/step - loss: 0.3538 - accuracy: 0.8490 - val_loss: 0.3540 - val_accuracy: 0.8491\n",
      "Epoch 19/150\n",
      "2232/2232 [==============================] - 7s 3ms/step - loss: 0.3532 - accuracy: 0.8491 - val_loss: 0.3539 - val_accuracy: 0.8495\n",
      "Epoch 20/150\n",
      "2232/2232 [==============================] - 8s 3ms/step - loss: 0.3526 - accuracy: 0.8489 - val_loss: 0.3531 - val_accuracy: 0.8502\n",
      "Epoch 21/150\n",
      "2232/2232 [==============================] - 8s 3ms/step - loss: 0.3520 - accuracy: 0.8492 - val_loss: 0.3526 - val_accuracy: 0.8506\n",
      "Epoch 22/150\n",
      "2232/2232 [==============================] - 8s 3ms/step - loss: 0.3515 - accuracy: 0.8493 - val_loss: 0.3519 - val_accuracy: 0.8504\n",
      "Epoch 23/150\n",
      "2232/2232 [==============================] - 8s 4ms/step - loss: 0.3511 - accuracy: 0.8497 - val_loss: 0.3517 - val_accuracy: 0.8505\n",
      "Epoch 24/150\n",
      "2232/2232 [==============================] - 7s 3ms/step - loss: 0.3506 - accuracy: 0.8495 - val_loss: 0.3512 - val_accuracy: 0.8498\n",
      "Epoch 25/150\n",
      "2232/2232 [==============================] - 8s 3ms/step - loss: 0.3500 - accuracy: 0.8496 - val_loss: 0.3508 - val_accuracy: 0.8506\n",
      "Epoch 26/150\n",
      "2232/2232 [==============================] - 8s 3ms/step - loss: 0.3496 - accuracy: 0.8502 - val_loss: 0.3505 - val_accuracy: 0.8498\n",
      "Epoch 27/150\n",
      "2232/2232 [==============================] - 7s 3ms/step - loss: 0.3493 - accuracy: 0.8499 - val_loss: 0.3505 - val_accuracy: 0.8502\n",
      "Epoch 28/150\n",
      "2232/2232 [==============================] - 8s 4ms/step - loss: 0.3489 - accuracy: 0.8506 - val_loss: 0.3504 - val_accuracy: 0.8503\n",
      "Epoch 29/150\n",
      "2232/2232 [==============================] - 8s 3ms/step - loss: 0.3487 - accuracy: 0.8507 - val_loss: 0.3497 - val_accuracy: 0.8502\n",
      "Epoch 30/150\n",
      "2232/2232 [==============================] - 7s 3ms/step - loss: 0.3483 - accuracy: 0.8503 - val_loss: 0.3498 - val_accuracy: 0.8497\n",
      "Epoch 31/150\n",
      "2232/2232 [==============================] - 7s 3ms/step - loss: 0.3480 - accuracy: 0.8508 - val_loss: 0.3494 - val_accuracy: 0.8498\n",
      "Epoch 32/150\n",
      "2232/2232 [==============================] - 7s 3ms/step - loss: 0.3477 - accuracy: 0.8506 - val_loss: 0.3491 - val_accuracy: 0.8504\n",
      "Epoch 33/150\n",
      "2232/2232 [==============================] - 7s 3ms/step - loss: 0.3474 - accuracy: 0.8505 - val_loss: 0.3493 - val_accuracy: 0.8510\n",
      "Epoch 34/150\n",
      "2232/2232 [==============================] - 8s 3ms/step - loss: 0.3472 - accuracy: 0.8510 - val_loss: 0.3492 - val_accuracy: 0.8503\n",
      "Epoch 35/150\n",
      "2232/2232 [==============================] - 8s 3ms/step - loss: 0.3468 - accuracy: 0.8510 - val_loss: 0.3488 - val_accuracy: 0.8511\n",
      "Epoch 36/150\n",
      "2232/2232 [==============================] - 7s 3ms/step - loss: 0.3466 - accuracy: 0.8514 - val_loss: 0.3487 - val_accuracy: 0.8502\n",
      "Epoch 37/150\n",
      "2232/2232 [==============================] - 7s 3ms/step - loss: 0.3464 - accuracy: 0.8512 - val_loss: 0.3489 - val_accuracy: 0.8505\n",
      "Epoch 38/150\n",
      "2232/2232 [==============================] - 8s 3ms/step - loss: 0.3462 - accuracy: 0.8512 - val_loss: 0.3483 - val_accuracy: 0.8502\n",
      "Epoch 39/150\n",
      "2232/2232 [==============================] - 8s 4ms/step - loss: 0.3458 - accuracy: 0.8509 - val_loss: 0.3486 - val_accuracy: 0.8500\n",
      "Epoch 40/150\n",
      "2232/2232 [==============================] - 8s 3ms/step - loss: 0.3457 - accuracy: 0.8518 - val_loss: 0.3485 - val_accuracy: 0.8511\n",
      "Epoch 41/150\n",
      "2232/2232 [==============================] - 7s 3ms/step - loss: 0.3454 - accuracy: 0.8515 - val_loss: 0.3481 - val_accuracy: 0.8497\n",
      "Epoch 42/150\n",
      "2232/2232 [==============================] - 7s 3ms/step - loss: 0.3452 - accuracy: 0.8517 - val_loss: 0.3483 - val_accuracy: 0.8506\n",
      "Epoch 43/150\n",
      "2232/2232 [==============================] - 7s 3ms/step - loss: 0.3450 - accuracy: 0.8519 - val_loss: 0.3479 - val_accuracy: 0.8510\n",
      "Epoch 44/150\n",
      "2232/2232 [==============================] - 7s 3ms/step - loss: 0.3448 - accuracy: 0.8516 - val_loss: 0.3476 - val_accuracy: 0.8510\n",
      "Epoch 45/150\n",
      "2232/2232 [==============================] - 7s 3ms/step - loss: 0.3446 - accuracy: 0.8516 - val_loss: 0.3477 - val_accuracy: 0.8514\n",
      "Epoch 46/150\n",
      "2232/2232 [==============================] - 7s 3ms/step - loss: 0.3443 - accuracy: 0.8517 - val_loss: 0.3478 - val_accuracy: 0.8507\n",
      "Epoch 47/150\n",
      "2232/2232 [==============================] - 7s 3ms/step - loss: 0.3442 - accuracy: 0.8520 - val_loss: 0.3476 - val_accuracy: 0.8513\n",
      "Epoch 48/150\n",
      "2232/2232 [==============================] - 8s 3ms/step - loss: 0.3440 - accuracy: 0.8517 - val_loss: 0.3475 - val_accuracy: 0.8510\n",
      "Epoch 49/150\n",
      "2232/2232 [==============================] - 8s 4ms/step - loss: 0.3438 - accuracy: 0.8526 - val_loss: 0.3477 - val_accuracy: 0.8512\n",
      "Epoch 50/150\n",
      "2232/2232 [==============================] - 8s 3ms/step - loss: 0.3437 - accuracy: 0.8523 - val_loss: 0.3473 - val_accuracy: 0.8510\n",
      "Epoch 51/150\n",
      "2232/2232 [==============================] - 7s 3ms/step - loss: 0.3434 - accuracy: 0.8523 - val_loss: 0.3472 - val_accuracy: 0.8501\n",
      "Epoch 52/150\n",
      "2232/2232 [==============================] - 7s 3ms/step - loss: 0.3434 - accuracy: 0.8524 - val_loss: 0.3473 - val_accuracy: 0.8504\n",
      "Epoch 53/150\n",
      "2232/2232 [==============================] - 8s 4ms/step - loss: 0.3431 - accuracy: 0.8526 - val_loss: 0.3478 - val_accuracy: 0.8510\n",
      "Epoch 54/150\n",
      "2232/2232 [==============================] - 7s 3ms/step - loss: 0.3430 - accuracy: 0.8528 - val_loss: 0.3471 - val_accuracy: 0.8509\n",
      "Epoch 55/150\n",
      "2232/2232 [==============================] - 7s 3ms/step - loss: 0.3428 - accuracy: 0.8529 - val_loss: 0.3472 - val_accuracy: 0.8509\n",
      "Epoch 56/150\n",
      "2232/2232 [==============================] - 7s 3ms/step - loss: 0.3427 - accuracy: 0.8532 - val_loss: 0.3471 - val_accuracy: 0.8513\n",
      "Epoch 57/150\n",
      "2232/2232 [==============================] - 7s 3ms/step - loss: 0.3425 - accuracy: 0.8531 - val_loss: 0.3473 - val_accuracy: 0.8507\n",
      "Epoch 58/150\n",
      "2232/2232 [==============================] - 7s 3ms/step - loss: 0.3424 - accuracy: 0.8535 - val_loss: 0.3472 - val_accuracy: 0.8510\n",
      "Epoch 59/150\n",
      "2232/2232 [==============================] - 8s 3ms/step - loss: 0.3423 - accuracy: 0.8536 - val_loss: 0.3474 - val_accuracy: 0.8509\n",
      "Epoch 60/150\n",
      "2232/2232 [==============================] - 8s 4ms/step - loss: 0.3420 - accuracy: 0.8533 - val_loss: 0.3472 - val_accuracy: 0.8506\n",
      "Epoch 61/150\n",
      "2232/2232 [==============================] - 7s 3ms/step - loss: 0.3420 - accuracy: 0.8529 - val_loss: 0.3468 - val_accuracy: 0.8505\n",
      "Epoch 62/150\n",
      "2232/2232 [==============================] - 7s 3ms/step - loss: 0.3417 - accuracy: 0.8540 - val_loss: 0.3475 - val_accuracy: 0.8510\n",
      "Epoch 63/150\n",
      "2232/2232 [==============================] - 7s 3ms/step - loss: 0.3417 - accuracy: 0.8533 - val_loss: 0.3481 - val_accuracy: 0.8496\n",
      "Epoch 64/150\n",
      "2232/2232 [==============================] - 8s 3ms/step - loss: 0.3416 - accuracy: 0.8536 - val_loss: 0.3472 - val_accuracy: 0.8512\n",
      "Epoch 65/150\n",
      "2232/2232 [==============================] - 8s 4ms/step - loss: 0.3415 - accuracy: 0.8536 - val_loss: 0.3468 - val_accuracy: 0.8515\n",
      "Epoch 66/150\n",
      "2232/2232 [==============================] - 7s 3ms/step - loss: 0.3413 - accuracy: 0.8534 - val_loss: 0.3465 - val_accuracy: 0.8513\n",
      "Epoch 67/150\n",
      "2232/2232 [==============================] - 8s 3ms/step - loss: 0.3411 - accuracy: 0.8535 - val_loss: 0.3474 - val_accuracy: 0.8515\n",
      "Epoch 68/150\n",
      "2232/2232 [==============================] - 7s 3ms/step - loss: 0.3409 - accuracy: 0.8538 - val_loss: 0.3472 - val_accuracy: 0.8503\n",
      "Epoch 69/150\n",
      "2232/2232 [==============================] - 7s 3ms/step - loss: 0.3409 - accuracy: 0.8537 - val_loss: 0.3471 - val_accuracy: 0.8525\n",
      "Epoch 70/150\n",
      "2232/2232 [==============================] - 7s 3ms/step - loss: 0.3408 - accuracy: 0.8537 - val_loss: 0.3467 - val_accuracy: 0.8517\n"
     ]
    }
   ],
   "source": [
    "# Initialising the new NN without\n",
    "model = Sequential()\n",
    "\n",
    "model.add(Dense(units = 32, kernel_initializer = 'uniform', activation = 'relu', input_dim = 26))\n",
    "model.add(Dense(units = 32, kernel_initializer = 'uniform', activation = 'relu'))\n",
    "model.add(Dense(units = 16, kernel_initializer = 'uniform', activation = 'relu'))\n",
    "model.add(Dense(units = 8, kernel_initializer = 'uniform', activation = 'relu'))\n",
    "model.add(Dense(units = 1, kernel_initializer = 'uniform', activation = 'sigmoid'))\n",
    "\n",
    "\n",
    "# Compiling the ANN\n",
    "opt = Adam(learning_rate=0.00009)\n",
    "model.compile(optimizer = opt, loss = 'binary_crossentropy', metrics = ['accuracy'])\n",
    "\n",
    "# Train the ANN\n",
    "history_no_dropout = model.fit(X_train, y_train, batch_size = 32, epochs = 150, callbacks=[early_stopping], validation_split=0.2)"
   ]
  },
  {
   "cell_type": "code",
   "execution_count": null,
   "metadata": {
    "colab": {
     "base_uri": "https://localhost:8080/",
     "height": 295
    },
    "executionInfo": {
     "elapsed": 564,
     "status": "ok",
     "timestamp": 1658088932182,
     "user": {
      "displayName": "Hùng Trịnh Quang",
      "userId": "08383140781890786618"
     },
     "user_tz": -420
    },
    "id": "Dno0s3U4uJWd",
    "outputId": "4e5efe24-6296-4864-c7d6-caee928939d0"
   },
   "outputs": [
    {
     "data": {
      "image/png": "[encoded data removed]",
      "text/plain": [
       "<Figure size 432x288 with 1 Axes>"
      ]
     },
     "metadata": {},
     "output_type": "display_data"
    }
   ],
   "source": [
    "history_df_2 = pd.DataFrame(history_no_dropout.history)\n",
    "\n",
    "plt.plot(history_df.loc[:, ['accuracy']], \"#EB4034\", label='Training accuracy with dropout')\n",
    "plt.plot(history_df.loc[:, ['val_accuracy']], \"#EBDC34\", label='Validation accuracy with dropout')\n",
    "plt.plot(history_df_2.loc[:, ['accuracy']], \"#BDE2E2\", label='Training accuracy without dropout')\n",
    "plt.plot(history_df_2.loc[:, ['val_accuracy']], \"#C2C4E2\", label='Validation accuracy without dropout')\n",
    "\n",
    "plt.title('Training and Validation accuracy')\n",
    "plt.xlabel('Epochs')\n",
    "plt.ylabel('Accuracy')\n",
    "plt.legend()\n",
    "plt.show()"
   ]
  },
  {
   "cell_type": "code",
   "execution_count": null,
   "metadata": {
    "id": "EQKFY8xoywyd"
   },
   "outputs": [],
   "source": [
    "# test\n",
    "y_pred = model.predict(X_test)\n",
    "y_pred = (y_pred > 0.5)"
   ]
  },
  {
   "cell_type": "code",
   "execution_count": null,
   "metadata": {
    "colab": {
     "base_uri": "https://localhost:8080/"
    },
    "executionInfo": {
     "elapsed": 354,
     "status": "ok",
     "timestamp": 1658089435465,
     "user": {
      "displayName": "Hùng Trịnh Quang",
      "userId": "08383140781890786618"
     },
     "user_tz": -420
    },
    "id": "UeLoRQYJzb0I",
    "outputId": "3164d1eb-c734-4a32-9c72-ac5c8393fdee"
   },
   "outputs": [
    {
     "name": "stdout",
     "output_type": "stream",
     "text": [
      "              precision    recall  f1-score   support\n",
      "\n",
      "           0     0.8705    0.9503    0.9087     30047\n",
      "           1     0.7264    0.4830    0.5802      8214\n",
      "\n",
      "    accuracy                         0.8500     38261\n",
      "   macro avg     0.7985    0.7166    0.7444     38261\n",
      "weighted avg     0.8396    0.8500    0.8381     38261\n",
      "\n"
     ]
    }
   ],
   "source": [
    "print(classification_report(y_test, y_pred, digits = 4))"
   ]
  },
  {
   "cell_type": "markdown",
   "metadata": {
    "id": "nWwoUx7t3KMf"
   },
   "source": [
    "## ANN with new kernal initializer"
   ]
  },
  {
   "cell_type": "code",
   "execution_count": null,
   "metadata": {
    "colab": {
     "base_uri": "https://localhost:8080/"
    },
    "executionInfo": {
     "elapsed": 512752,
     "status": "ok",
     "timestamp": 1658090553264,
     "user": {
      "displayName": "Hùng Trịnh Quang",
      "userId": "08383140781890786618"
     },
     "user_tz": -420
    },
    "id": "20Fat1ar3LpJ",
    "outputId": "72317e49-2494-4d3e-d788-da7297be199d"
   },
   "outputs": [
    {
     "name": "stdout",
     "output_type": "stream",
     "text": [
      "Epoch 1/150\n",
      "2232/2232 [==============================] - 16s 7ms/step - loss: 0.4317 - accuracy: 0.8071 - val_loss: 0.3803 - val_accuracy: 0.8322\n",
      "Epoch 2/150\n",
      "2232/2232 [==============================] - 12s 5ms/step - loss: 0.3735 - accuracy: 0.8349 - val_loss: 0.3680 - val_accuracy: 0.8383\n",
      "Epoch 3/150\n",
      "2232/2232 [==============================] - 10s 4ms/step - loss: 0.3655 - accuracy: 0.8403 - val_loss: 0.3628 - val_accuracy: 0.8414\n",
      "Epoch 4/150\n",
      "2232/2232 [==============================] - 10s 4ms/step - loss: 0.3612 - accuracy: 0.8420 - val_loss: 0.3590 - val_accuracy: 0.8449\n",
      "Epoch 5/150\n",
      "2232/2232 [==============================] - 11s 5ms/step - loss: 0.3585 - accuracy: 0.8433 - val_loss: 0.3565 - val_accuracy: 0.8463\n",
      "Epoch 6/150\n",
      "2232/2232 [==============================] - 11s 5ms/step - loss: 0.3563 - accuracy: 0.8446 - val_loss: 0.3548 - val_accuracy: 0.8472\n",
      "Epoch 7/150\n",
      "2232/2232 [==============================] - 10s 4ms/step - loss: 0.3546 - accuracy: 0.8454 - val_loss: 0.3535 - val_accuracy: 0.8479\n",
      "Epoch 8/150\n",
      "2232/2232 [==============================] - 10s 4ms/step - loss: 0.3532 - accuracy: 0.8461 - val_loss: 0.3523 - val_accuracy: 0.8491\n",
      "Epoch 9/150\n",
      "2232/2232 [==============================] - 12s 5ms/step - loss: 0.3519 - accuracy: 0.8466 - val_loss: 0.3516 - val_accuracy: 0.8487\n",
      "Epoch 10/150\n",
      "2232/2232 [==============================] - 9s 4ms/step - loss: 0.3507 - accuracy: 0.8469 - val_loss: 0.3508 - val_accuracy: 0.8495\n",
      "Epoch 11/150\n",
      "2232/2232 [==============================] - 7s 3ms/step - loss: 0.3497 - accuracy: 0.8473 - val_loss: 0.3502 - val_accuracy: 0.8488\n",
      "Epoch 12/150\n",
      "2232/2232 [==============================] - 7s 3ms/step - loss: 0.3488 - accuracy: 0.8474 - val_loss: 0.3498 - val_accuracy: 0.8479\n",
      "Epoch 13/150\n",
      "2232/2232 [==============================] - 7s 3ms/step - loss: 0.3479 - accuracy: 0.8479 - val_loss: 0.3490 - val_accuracy: 0.8493\n",
      "Epoch 14/150\n",
      "2232/2232 [==============================] - 8s 3ms/step - loss: 0.3472 - accuracy: 0.8484 - val_loss: 0.3486 - val_accuracy: 0.8487\n",
      "Epoch 15/150\n",
      "2232/2232 [==============================] - 8s 3ms/step - loss: 0.3464 - accuracy: 0.8491 - val_loss: 0.3482 - val_accuracy: 0.8480\n",
      "Epoch 16/150\n",
      "2232/2232 [==============================] - 7s 3ms/step - loss: 0.3457 - accuracy: 0.8492 - val_loss: 0.3480 - val_accuracy: 0.8484\n",
      "Epoch 17/150\n",
      "2232/2232 [==============================] - 9s 4ms/step - loss: 0.3451 - accuracy: 0.8498 - val_loss: 0.3478 - val_accuracy: 0.8507\n",
      "Epoch 18/150\n",
      "2232/2232 [==============================] - 7s 3ms/step - loss: 0.3444 - accuracy: 0.8499 - val_loss: 0.3475 - val_accuracy: 0.8490\n",
      "Epoch 19/150\n",
      "2232/2232 [==============================] - 8s 3ms/step - loss: 0.3439 - accuracy: 0.8498 - val_loss: 0.3471 - val_accuracy: 0.8502\n",
      "Epoch 20/150\n",
      "2232/2232 [==============================] - 7s 3ms/step - loss: 0.3433 - accuracy: 0.8496 - val_loss: 0.3469 - val_accuracy: 0.8500\n",
      "Epoch 21/150\n",
      "2232/2232 [==============================] - 8s 4ms/step - loss: 0.3428 - accuracy: 0.8505 - val_loss: 0.3466 - val_accuracy: 0.8500\n",
      "Epoch 22/150\n",
      "2232/2232 [==============================] - 8s 3ms/step - loss: 0.3423 - accuracy: 0.8506 - val_loss: 0.3461 - val_accuracy: 0.8502\n",
      "Epoch 23/150\n",
      "2232/2232 [==============================] - 7s 3ms/step - loss: 0.3419 - accuracy: 0.8512 - val_loss: 0.3457 - val_accuracy: 0.8499\n",
      "Epoch 24/150\n",
      "2232/2232 [==============================] - 8s 3ms/step - loss: 0.3414 - accuracy: 0.8514 - val_loss: 0.3463 - val_accuracy: 0.8510\n",
      "Epoch 25/150\n",
      "2232/2232 [==============================] - 7s 3ms/step - loss: 0.3410 - accuracy: 0.8517 - val_loss: 0.3457 - val_accuracy: 0.8501\n",
      "Epoch 26/150\n",
      "2232/2232 [==============================] - 8s 4ms/step - loss: 0.3406 - accuracy: 0.8518 - val_loss: 0.3457 - val_accuracy: 0.8492\n",
      "Epoch 27/150\n",
      "2232/2232 [==============================] - 9s 4ms/step - loss: 0.3402 - accuracy: 0.8520 - val_loss: 0.3454 - val_accuracy: 0.8504\n",
      "Epoch 28/150\n",
      "2232/2232 [==============================] - 7s 3ms/step - loss: 0.3397 - accuracy: 0.8525 - val_loss: 0.3470 - val_accuracy: 0.8514\n",
      "Epoch 29/150\n",
      "2232/2232 [==============================] - 8s 3ms/step - loss: 0.3395 - accuracy: 0.8525 - val_loss: 0.3451 - val_accuracy: 0.8501\n",
      "Epoch 30/150\n",
      "2232/2232 [==============================] - 7s 3ms/step - loss: 0.3390 - accuracy: 0.8529 - val_loss: 0.3452 - val_accuracy: 0.8514\n",
      "Epoch 31/150\n",
      "2232/2232 [==============================] - 7s 3ms/step - loss: 0.3387 - accuracy: 0.8535 - val_loss: 0.3449 - val_accuracy: 0.8510\n",
      "Epoch 32/150\n",
      "2232/2232 [==============================] - 8s 3ms/step - loss: 0.3383 - accuracy: 0.8533 - val_loss: 0.3450 - val_accuracy: 0.8515\n",
      "Epoch 33/150\n",
      "2232/2232 [==============================] - 7s 3ms/step - loss: 0.3380 - accuracy: 0.8531 - val_loss: 0.3452 - val_accuracy: 0.8492\n",
      "Epoch 34/150\n",
      "2232/2232 [==============================] - 8s 3ms/step - loss: 0.3376 - accuracy: 0.8536 - val_loss: 0.3452 - val_accuracy: 0.8513\n",
      "Epoch 35/150\n",
      "2232/2232 [==============================] - 8s 4ms/step - loss: 0.3374 - accuracy: 0.8533 - val_loss: 0.3446 - val_accuracy: 0.8519\n",
      "Epoch 36/150\n",
      "2232/2232 [==============================] - 8s 3ms/step - loss: 0.3370 - accuracy: 0.8538 - val_loss: 0.3447 - val_accuracy: 0.8520\n",
      "Epoch 37/150\n",
      "2232/2232 [==============================] - 8s 4ms/step - loss: 0.3368 - accuracy: 0.8546 - val_loss: 0.3447 - val_accuracy: 0.8514\n",
      "Epoch 38/150\n",
      "2232/2232 [==============================] - 8s 3ms/step - loss: 0.3365 - accuracy: 0.8544 - val_loss: 0.3447 - val_accuracy: 0.8492\n",
      "Epoch 39/150\n",
      "2232/2232 [==============================] - 7s 3ms/step - loss: 0.3362 - accuracy: 0.8539 - val_loss: 0.3446 - val_accuracy: 0.8510\n",
      "Epoch 40/150\n",
      "2232/2232 [==============================] - 7s 3ms/step - loss: 0.3359 - accuracy: 0.8539 - val_loss: 0.3448 - val_accuracy: 0.8510\n",
      "Epoch 41/150\n",
      "2232/2232 [==============================] - 7s 3ms/step - loss: 0.3355 - accuracy: 0.8545 - val_loss: 0.3452 - val_accuracy: 0.8489\n",
      "Epoch 42/150\n",
      "2232/2232 [==============================] - 8s 3ms/step - loss: 0.3354 - accuracy: 0.8542 - val_loss: 0.3444 - val_accuracy: 0.8505\n",
      "Epoch 43/150\n",
      "2232/2232 [==============================] - 7s 3ms/step - loss: 0.3351 - accuracy: 0.8546 - val_loss: 0.3445 - val_accuracy: 0.8503\n",
      "Epoch 44/150\n",
      "2232/2232 [==============================] - 8s 3ms/step - loss: 0.3349 - accuracy: 0.8553 - val_loss: 0.3445 - val_accuracy: 0.8524\n",
      "Epoch 45/150\n",
      "2232/2232 [==============================] - 8s 3ms/step - loss: 0.3345 - accuracy: 0.8549 - val_loss: 0.3441 - val_accuracy: 0.8516\n",
      "Epoch 46/150\n",
      "2232/2232 [==============================] - 7s 3ms/step - loss: 0.3343 - accuracy: 0.8550 - val_loss: 0.3453 - val_accuracy: 0.8508\n",
      "Epoch 47/150\n",
      "2232/2232 [==============================] - 8s 4ms/step - loss: 0.3341 - accuracy: 0.8557 - val_loss: 0.3447 - val_accuracy: 0.8520\n",
      "Epoch 48/150\n",
      "2232/2232 [==============================] - 8s 4ms/step - loss: 0.3338 - accuracy: 0.8558 - val_loss: 0.3444 - val_accuracy: 0.8520\n",
      "Epoch 49/150\n",
      "2232/2232 [==============================] - 8s 4ms/step - loss: 0.3334 - accuracy: 0.8558 - val_loss: 0.3450 - val_accuracy: 0.8489\n",
      "Epoch 50/150\n",
      "2232/2232 [==============================] - 8s 4ms/step - loss: 0.3333 - accuracy: 0.8556 - val_loss: 0.3440 - val_accuracy: 0.8510\n",
      "Epoch 51/150\n",
      "2232/2232 [==============================] - 7s 3ms/step - loss: 0.3331 - accuracy: 0.8559 - val_loss: 0.3438 - val_accuracy: 0.8512\n",
      "Epoch 52/150\n",
      "2232/2232 [==============================] - 8s 3ms/step - loss: 0.3328 - accuracy: 0.8554 - val_loss: 0.3440 - val_accuracy: 0.8507\n",
      "Epoch 53/150\n",
      "2232/2232 [==============================] - 8s 3ms/step - loss: 0.3326 - accuracy: 0.8558 - val_loss: 0.3444 - val_accuracy: 0.8504\n",
      "Epoch 54/150\n",
      "2232/2232 [==============================] - 7s 3ms/step - loss: 0.3323 - accuracy: 0.8561 - val_loss: 0.3445 - val_accuracy: 0.8526\n",
      "Epoch 55/150\n",
      "2232/2232 [==============================] - 8s 3ms/step - loss: 0.3320 - accuracy: 0.8562 - val_loss: 0.3445 - val_accuracy: 0.8518\n",
      "Epoch 56/150\n",
      "2232/2232 [==============================] - 8s 3ms/step - loss: 0.3319 - accuracy: 0.8563 - val_loss: 0.3441 - val_accuracy: 0.8514\n",
      "Epoch 57/150\n",
      "2232/2232 [==============================] - 8s 3ms/step - loss: 0.3317 - accuracy: 0.8564 - val_loss: 0.3442 - val_accuracy: 0.8514\n",
      "Epoch 58/150\n",
      "2232/2232 [==============================] - 9s 4ms/step - loss: 0.3315 - accuracy: 0.8567 - val_loss: 0.3448 - val_accuracy: 0.8514\n",
      "Epoch 59/150\n",
      "2232/2232 [==============================] - 7s 3ms/step - loss: 0.3311 - accuracy: 0.8569 - val_loss: 0.3442 - val_accuracy: 0.8518\n",
      "Epoch 60/150\n",
      "2232/2232 [==============================] - 7s 3ms/step - loss: 0.3310 - accuracy: 0.8565 - val_loss: 0.3445 - val_accuracy: 0.8514\n",
      "Epoch 61/150\n",
      "2232/2232 [==============================] - 8s 3ms/step - loss: 0.3307 - accuracy: 0.8567 - val_loss: 0.3444 - val_accuracy: 0.8515\n",
      "Epoch 62/150\n",
      "2232/2232 [==============================] - 7s 3ms/step - loss: 0.3306 - accuracy: 0.8567 - val_loss: 0.3444 - val_accuracy: 0.8509\n"
     ]
    }
   ],
   "source": [
    "# Initialising the new NN without\n",
    "model = Sequential()\n",
    "\n",
    "model.add(Dense(units = 32, activation = 'relu', input_dim = 26))\n",
    "model.add(Dense(units = 32, activation = 'relu'))\n",
    "model.add(Dense(units = 16, activation = 'relu'))\n",
    "model.add(Dense(units = 8, activation = 'relu'))\n",
    "model.add(Dense(units = 1, activation = 'sigmoid'))\n",
    "\n",
    "\n",
    "# Compiling the ANN\n",
    "opt = Adam(learning_rate=0.00009)\n",
    "model.compile(optimizer = opt, loss = 'binary_crossentropy', metrics = ['accuracy'])\n",
    "\n",
    "# Train the ANN\n",
    "history_xavier = model.fit(X_train, y_train, batch_size = 32, epochs = 150, callbacks=[early_stopping], validation_split=0.2)"
   ]
  },
  {
   "cell_type": "code",
   "execution_count": null,
   "metadata": {
    "colab": {
     "base_uri": "https://localhost:8080/"
    },
    "executionInfo": {
     "elapsed": 219643,
     "status": "ok",
     "timestamp": 1658096210849,
     "user": {
      "displayName": "Hùng Trịnh Quang",
      "userId": "08383140781890786618"
     },
     "user_tz": -420
    },
    "id": "Q6uZ92s1MtBJ",
    "outputId": "1ac23ca4-3096-4f3a-eb82-517254bc3496"
   },
   "outputs": [
    {
     "name": "stdout",
     "output_type": "stream",
     "text": [
      "Epoch 1/150\n",
      "2232/2232 [==============================] - 8s 3ms/step - loss: 0.6676 - accuracy: 0.7857 - val_loss: 0.6444 - val_accuracy: 0.7838\n",
      "Epoch 2/150\n",
      "2232/2232 [==============================] - 8s 3ms/step - loss: 0.6241 - accuracy: 0.7857 - val_loss: 0.6063 - val_accuracy: 0.7838\n",
      "Epoch 3/150\n",
      "2232/2232 [==============================] - 7s 3ms/step - loss: 0.5900 - accuracy: 0.7857 - val_loss: 0.5769 - val_accuracy: 0.7838\n",
      "Epoch 4/150\n",
      "2232/2232 [==============================] - 8s 3ms/step - loss: 0.5643 - accuracy: 0.7857 - val_loss: 0.5552 - val_accuracy: 0.7838\n",
      "Epoch 5/150\n",
      "2232/2232 [==============================] - 8s 3ms/step - loss: 0.5458 - accuracy: 0.7857 - val_loss: 0.5404 - val_accuracy: 0.7838\n",
      "Epoch 6/150\n",
      "2232/2232 [==============================] - 7s 3ms/step - loss: 0.5335 - accuracy: 0.7857 - val_loss: 0.5311 - val_accuracy: 0.7838\n",
      "Epoch 7/150\n",
      "2232/2232 [==============================] - 8s 3ms/step - loss: 0.5263 - accuracy: 0.7857 - val_loss: 0.5261 - val_accuracy: 0.7838\n",
      "Epoch 8/150\n",
      "2232/2232 [==============================] - 9s 4ms/step - loss: 0.5225 - accuracy: 0.7857 - val_loss: 0.5237 - val_accuracy: 0.7838\n",
      "Epoch 9/150\n",
      "2232/2232 [==============================] - 8s 3ms/step - loss: 0.5208 - accuracy: 0.7857 - val_loss: 0.5227 - val_accuracy: 0.7838\n",
      "Epoch 10/150\n",
      "2232/2232 [==============================] - 8s 3ms/step - loss: 0.5200 - accuracy: 0.7857 - val_loss: 0.5223 - val_accuracy: 0.7838\n",
      "Epoch 11/150\n",
      "2232/2232 [==============================] - 8s 3ms/step - loss: 0.5198 - accuracy: 0.7857 - val_loss: 0.5222 - val_accuracy: 0.7838\n",
      "Epoch 12/150\n",
      "2232/2232 [==============================] - 7s 3ms/step - loss: 0.5196 - accuracy: 0.7857 - val_loss: 0.5221 - val_accuracy: 0.7838\n",
      "Epoch 13/150\n",
      "2232/2232 [==============================] - 7s 3ms/step - loss: 0.5196 - accuracy: 0.7857 - val_loss: 0.5221 - val_accuracy: 0.7838\n",
      "Epoch 14/150\n",
      "2232/2232 [==============================] - 7s 3ms/step - loss: 0.5196 - accuracy: 0.7857 - val_loss: 0.5221 - val_accuracy: 0.7838\n",
      "Epoch 15/150\n",
      "2232/2232 [==============================] - 7s 3ms/step - loss: 0.5196 - accuracy: 0.7857 - val_loss: 0.5221 - val_accuracy: 0.7838\n",
      "Epoch 16/150\n",
      "2232/2232 [==============================] - 8s 3ms/step - loss: 0.5196 - accuracy: 0.7857 - val_loss: 0.5221 - val_accuracy: 0.7838\n",
      "Epoch 17/150\n",
      "2232/2232 [==============================] - 8s 4ms/step - loss: 0.5196 - accuracy: 0.7857 - val_loss: 0.5221 - val_accuracy: 0.7838\n",
      "Epoch 18/150\n",
      "2232/2232 [==============================] - 8s 3ms/step - loss: 0.5196 - accuracy: 0.7857 - val_loss: 0.5221 - val_accuracy: 0.7838\n",
      "Epoch 19/150\n",
      "2232/2232 [==============================] - 8s 3ms/step - loss: 0.5196 - accuracy: 0.7857 - val_loss: 0.5221 - val_accuracy: 0.7838\n",
      "Epoch 20/150\n",
      "2232/2232 [==============================] - 8s 3ms/step - loss: 0.5196 - accuracy: 0.7857 - val_loss: 0.5221 - val_accuracy: 0.7838\n",
      "Epoch 21/150\n",
      "2232/2232 [==============================] - 8s 3ms/step - loss: 0.5196 - accuracy: 0.7857 - val_loss: 0.5221 - val_accuracy: 0.7838\n",
      "Epoch 22/150\n",
      "2232/2232 [==============================] - 8s 3ms/step - loss: 0.5196 - accuracy: 0.7857 - val_loss: 0.5221 - val_accuracy: 0.7838\n",
      "Epoch 23/150\n",
      "2232/2232 [==============================] - 8s 3ms/step - loss: 0.5196 - accuracy: 0.7857 - val_loss: 0.5221 - val_accuracy: 0.7838\n",
      "Epoch 24/150\n",
      "2232/2232 [==============================] - 8s 3ms/step - loss: 0.5196 - accuracy: 0.7857 - val_loss: 0.5221 - val_accuracy: 0.7838\n",
      "Epoch 25/150\n",
      "2232/2232 [==============================] - 8s 3ms/step - loss: 0.5196 - accuracy: 0.7857 - val_loss: 0.5221 - val_accuracy: 0.7838\n",
      "Epoch 26/150\n",
      "2232/2232 [==============================] - 8s 4ms/step - loss: 0.5196 - accuracy: 0.7857 - val_loss: 0.5221 - val_accuracy: 0.7838\n",
      "Epoch 27/150\n",
      "2232/2232 [==============================] - 7s 3ms/step - loss: 0.5196 - accuracy: 0.7857 - val_loss: 0.5221 - val_accuracy: 0.7838\n",
      "Epoch 28/150\n",
      "2232/2232 [==============================] - 7s 3ms/step - loss: 0.5196 - accuracy: 0.7857 - val_loss: 0.5221 - val_accuracy: 0.7838\n",
      "Epoch 29/150\n",
      "2232/2232 [==============================] - 8s 3ms/step - loss: 0.5196 - accuracy: 0.7857 - val_loss: 0.5221 - val_accuracy: 0.7838\n"
     ]
    }
   ],
   "source": [
    "# Zeros weight\n",
    "initializer = initializers.Zeros()\n",
    "\n",
    "# Initialising the new NN without\n",
    "model = Sequential()\n",
    "\n",
    "model.add(Dense(units = 32, activation = 'relu', kernel_initializer=initializer, input_dim = 26))\n",
    "model.add(Dense(units = 32, activation = 'relu', kernel_initializer=initializer))\n",
    "model.add(Dense(units = 16, activation = 'relu', kernel_initializer=initializer))\n",
    "model.add(Dense(units = 8, activation = 'relu', kernel_initializer=initializer))\n",
    "model.add(Dense(units = 1, activation = 'sigmoid', kernel_initializer=initializer))\n",
    "\n",
    "\n",
    "# Compiling the ANN\n",
    "opt = Adam(learning_rate=0.00009)\n",
    "model.compile(optimizer = opt, loss = 'binary_crossentropy', metrics = ['accuracy'])\n",
    "\n",
    "# Train the ANN\n",
    "history_no_init = model.fit(X_train, y_train, batch_size = 32, epochs = 150, callbacks=[early_stopping], validation_split=0.2)"
   ]
  },
  {
   "cell_type": "code",
   "execution_count": null,
   "metadata": {
    "colab": {
     "base_uri": "https://localhost:8080/",
     "height": 235
    },
    "executionInfo": {
     "elapsed": 539,
     "status": "error",
     "timestamp": 1658096702088,
     "user": {
      "displayName": "Hùng Trịnh Quang",
      "userId": "08383140781890786618"
     },
     "user_tz": -420
    },
    "id": "HY9HOkcy3Jsy",
    "outputId": "fddcdb45-7af1-429b-c0d0-c3d9e6c9ec10"
   },
   "outputs": [
    {
     "ename": "NameError",
     "evalue": "ignored",
     "output_type": "error",
     "traceback": [
      "\u001b[0;31m---------------------------------------------------------------------------\u001b[0m\n",
      "\u001b[0;31mNameError\u001b[0m                                 Traceback (most recent call last)\n",
      "\u001b[0;32m<ipython-input-14-0f2cf0c54ad9>\u001b[0m in \u001b[0;36m<module>\u001b[0;34m()\u001b[0m\n",
      "\u001b[1;32m      1\u001b[0m \u001b[0mhistory_df_3\u001b[0m \u001b[0;34m=\u001b[0m \u001b[0mpd\u001b[0m\u001b[0;34m.\u001b[0m\u001b[0mDataFrame\u001b[0m\u001b[0;34m(\u001b[0m\u001b[0mhistory_xavier\u001b[0m\u001b[0;34m.\u001b[0m\u001b[0mhistory\u001b[0m\u001b[0;34m)\u001b[0m\u001b[0;34m\u001b[0m\u001b[0;34m\u001b[0m\u001b[0m\n",
      "\u001b[1;32m      2\u001b[0m \u001b[0;31m# history_df_2 = pd.DataFrame(history_no_dropout.history)\u001b[0m\u001b[0;34m\u001b[0m\u001b[0;34m\u001b[0m\u001b[0;34m\u001b[0m\u001b[0m\n",
      "\u001b[0;32m----> 3\u001b[0;31m \u001b[0mhistory_df_4\u001b[0m \u001b[0;34m=\u001b[0m \u001b[0mpd\u001b[0m\u001b[0;34m.\u001b[0m\u001b[0mDataFrame\u001b[0m\u001b[0;34m(\u001b[0m\u001b[0mhistory_no_init\u001b[0m\u001b[0;34m.\u001b[0m\u001b[0mhistory\u001b[0m\u001b[0;34m)\u001b[0m\u001b[0;34m\u001b[0m\u001b[0;34m\u001b[0m\u001b[0m\n",
      "\u001b[0m\u001b[1;32m      4\u001b[0m \u001b[0;34m\u001b[0m\u001b[0m\n",
      "\u001b[1;32m      5\u001b[0m \u001b[0mplt\u001b[0m\u001b[0;34m.\u001b[0m\u001b[0mplot\u001b[0m\u001b[0;34m(\u001b[0m\u001b[0mhistory_df_3\u001b[0m\u001b[0;34m.\u001b[0m\u001b[0mloc\u001b[0m\u001b[0;34m[\u001b[0m\u001b[0;34m:\u001b[0m\u001b[0;34m,\u001b[0m \u001b[0;34m[\u001b[0m\u001b[0;34m'accuracy'\u001b[0m\u001b[0;34m]\u001b[0m\u001b[0;34m]\u001b[0m\u001b[0;34m,\u001b[0m \u001b[0;34m\"#EB4034\"\u001b[0m\u001b[0;34m,\u001b[0m \u001b[0mlabel\u001b[0m\u001b[0;34m=\u001b[0m\u001b[0;34m'Training accuracy without initialize weight'\u001b[0m\u001b[0;34m)\u001b[0m\u001b[0;34m\u001b[0m\u001b[0;34m\u001b[0m\u001b[0m\n",
      "\n",
      "\u001b[0;31mNameError\u001b[0m: name 'history_no_init' is not defined"
     ]
    }
   ],
   "source": [
    "history_df_2 = pd.DataFrame(history_no_dropout.history)\n",
    "history_df_3 = pd.DataFrame(history_xavier.history)\n",
    "history_df_4 = pd.DataFrame(history_no_init.history)\n",
    "\n",
    "plt.plot(history_df_2.loc[:, ['accuracy']], \"#BDE2E2\", label='Training accuracy with initialize uniform weight')\n",
    "plt.plot(history_df_2.loc[:, ['val_accuracy']], \"#C2C4E2\", label='Validation accuracy with initialize uniform weight')\n",
    "plt.plot(history_df_3.loc[:, ['accuracy']], \"#EB4034\", label='Training accuracy without initialize xavier weight')\n",
    "plt.plot(history_df_3.loc[:, ['val_accuracy']], \"#EBDC34\", label='Validation accuracy without initialize xavier weight')\n",
    "plt.plot(history_df_4.loc[:, ['accuracy']], \"#EB4034\", label='Training accuracy with zeros')\n",
    "plt.plot(history_df_4.loc[:, ['val_accuracy']], \"#EBDC34\", label='Validation accuracy with zeros')\n",
    "\n",
    "plt.title('Training and Validation accuracy')\n",
    "plt.xlabel('Epochs')\n",
    "plt.ylabel('Accuracy')\n",
    "plt.legend()\n",
    "plt.show()"
   ]
  }
 ],
 "metadata": {
  "kernelspec": {
   "display_name": "Python 3.8.10 ('.venv': venv)",
   "language": "python",
   "name": "python3"
  },
  "language_info": {
   "codemirror_mode": {
    "name": "ipython",
    "version": 3
   },
   "file_extension": ".py",
   "mimetype": "text/x-python",
   "name": "python",
   "nbconvert_exporter": "python",
   "pygments_lexer": "ipython3",
   "version": "3.8.10"
  },
  "orig_nbformat": 4,
  "vscode": {
   "interpreter": {
    "hash": "64606affa4aa5618273cd769d4299cee0a1a053c7b808166c70542da8c3ea7b1"
   }
  }
 },
 "nbformat": 4,
 "nbformat_minor": 2
}
